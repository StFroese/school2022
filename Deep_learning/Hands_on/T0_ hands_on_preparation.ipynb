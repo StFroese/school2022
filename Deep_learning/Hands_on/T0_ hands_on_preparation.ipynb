{
 "cells": [
  {
   "cell_type": "code",
   "execution_count": null,
   "id": "de70f7a5",
   "metadata": {},
   "outputs": [],
   "source": [
    "from torchvision.datasets import CIFAR10\n",
    "import os\n",
    "import sys"
   ]
  },
  {
   "cell_type": "code",
   "execution_count": null,
   "id": "064c2dd2",
   "metadata": {},
   "outputs": [],
   "source": [
    "# Let us download the data need for the hands on\n",
    "CIFAR10(root='./data', train=True, download=True)\n",
    "CIFAR10(root='./data', train=False, download=True)"
   ]
  },
  {
   "cell_type": "code",
   "execution_count": null,
   "id": "a146947e",
   "metadata": {},
   "outputs": [],
   "source": [
    "# Let us save some space\n",
    "if os.path.exists('./data/cifar-10-python.tar.gz'):\n",
    "    os.remove('./data/cifar-10-python.tar.gz')"
   ]
  }
 ],
 "metadata": {
  "kernelspec": {
   "display_name": "Python 3 (ipykernel)",
   "language": "python",
   "name": "python3"
  },
  "language_info": {
   "codemirror_mode": {
    "name": "ipython",
    "version": 3
   },
   "file_extension": ".py",
   "mimetype": "text/x-python",
   "name": "python",
   "nbconvert_exporter": "python",
   "pygments_lexer": "ipython3",
   "version": "3.10.4"
  }
 },
 "nbformat": 4,
 "nbformat_minor": 5
}
