{
 "cells": [
  {
   "cell_type": "markdown",
   "id": "b2e85721",
   "metadata": {},
   "source": [
    "# Let's dive deeper (without killing the planet) !\n",
    "(Widely inspired from https://keras.io/guides/transfer_learning/)\n",
    "\n",
    "In this tutorial, we experiment an end-to-end transfer learning application for a classification task. We have seen in the lecture that transfer learning is especially interesting when our dataset is small. We can this way benefit from the features learned on a similar problem that has a bigger dataset.\n",
    "\n",
    "Our goal is to learn a \"cats vs dogs\" classifier, given a very small dataset composed of 500 images of each for training and 200 for validation. (If you have not already downloaded the data, you can find them here: https://filesender.renater.fr/?s=download&token=9ab7438d-f148-40a7-9eb2-211d92dda46a\n",
    "Then unzip the file in ./data/)\n",
    "\n",
    "We will first train a baseline network from scratch. Then, we will use transfer learning by loading a very deep architecture, a ResNet18, that has been pretrained on the ImageNet dataset that contains millions of images. More specifically, we will use the convolutional part of the ResNet as a feature extractor, and train a single fully connected layer as classifier. The transfer learning workflow is then:\n",
    "1. Load the pretrained version of the model\n",
    "2. Freeze the weights of the model to keep the information they have learned on ImageNet\n",
    "3. Replace the original last FC layer with a one (or more) adapted to our problem\n",
    "4. Train this(ese) new layer(s) on our very small dataset"
   ]
  },
  {
   "cell_type": "markdown",
   "id": "ef51cd7d",
   "metadata": {},
   "source": [
    "## Prepare the environment"
   ]
  },
  {
   "cell_type": "code",
   "execution_count": null,
   "id": "27e5b3c1",
   "metadata": {},
   "outputs": [],
   "source": [
    "import os\n",
    "import torch\n",
    "from torch.nn import functional as F\n",
    "from torch.utils.data import DataLoader, random_split, Dataset\n",
    "from torchvision.datasets.folder import pil_loader\n",
    "from torchvision.models import resnet18\n",
    "\n",
    "\n",
    "import pytorch_lightning as pl\n",
    "\n",
    "import torchvision\n",
    "from torchvision import transforms\n",
    "\n",
    "from torchmetrics import Accuracy\n",
    "\n",
    "import numpy as np\n",
    "import matplotlib.pyplot as plt"
   ]
  },
  {
   "cell_type": "code",
   "execution_count": null,
   "id": "74923c84",
   "metadata": {},
   "outputs": [],
   "source": [
    "# Define computing device\n",
    "use_cuda = True\n",
    "\n",
    "if torch.cuda.is_available() and use_cuda:\n",
    "    print('We have GPU !')\n",
    "    gpu = 1\n",
    "else:\n",
    "    print('We will use CPU')\n",
    "    gpu = 0"
   ]
  },
  {
   "cell_type": "code",
   "execution_count": null,
   "id": "d4da063e",
   "metadata": {},
   "outputs": [],
   "source": [
    "student_name = ?"
   ]
  },
  {
   "cell_type": "markdown",
   "id": "5c128dd6",
   "metadata": {},
   "source": [
    "## Collect and prepare the data\n",
    "\n",
    "As \"Cats vs Dogs\" is not a standard torchvision dataset, we have to create our own custom dataset class. \n",
    "\n",
    "The train and test images are in separated folders. Besides, the class of each image is included in its name."
   ]
  },
  {
   "cell_type": "code",
   "execution_count": null,
   "id": "9c5b448f",
   "metadata": {},
   "outputs": [],
   "source": [
    "for directory, folders, files in os.walk('./data/cats_dogs_light/'):\n",
    "    print(directory)\n",
    "    print(folders)\n",
    "    print(files[:6])"
   ]
  },
  {
   "cell_type": "markdown",
   "id": "49b11f08",
   "metadata": {},
   "source": [
    "We can therefore use the same class to load the train dataset object and the test dataset object.\n",
    "\n",
    "The custom dataset class inherits from torch.utils.data.Dataset, and has 3 mandatory methods: \\_\\_init\\_\\_, \\_\\_len\\_\\_ and \\_\\_getitem\\_\\_\n",
    "\n",
    "* In \\_\\_init\\_\\_ we need to fetch the data folder (train or test) to list the images.\n",
    "\n",
    "* \\_\\_len\\_\\_ returns the length of the dataset\n",
    "\n",
    "* \\_\\_getitem\\_\\_ returns one sample (one image and its label)"
   ]
  },
  {
   "cell_type": "code",
   "execution_count": null,
   "id": "26a7d7b1",
   "metadata": {},
   "outputs": [],
   "source": [
    "def get_image_list(path):\n",
    "    image_list = set([file for file in os.listdir(path) if os.path.isfile(os.path.join(path, file))])\n",
    "    return list(image_list)"
   ]
  },
  {
   "cell_type": "code",
   "execution_count": null,
   "id": "288a1ad0",
   "metadata": {},
   "outputs": [],
   "source": [
    "class CatsDogsDataset(Dataset):\n",
    "\n",
    "    def __init__(self, data_path='cats_dogs_light/train', transform=None):\n",
    "        self.data_path = data_path\n",
    "        self.transform = transform\n",
    "        self.classes = {'cat': 0, 'dog': 1}\n",
    "        self.data_list = get_image_list(data_path)\n",
    "    \n",
    "    def __len__(self):\n",
    "        return len(self.data_list)\n",
    "    \n",
    "    def __getitem__(self, idx):\n",
    "        img_name = self.data_list[idx]\n",
    "        image = pil_loader(os.path.join(self.data_path, img_name))\n",
    "        label = self.classes[img_name.split('.')[0]]\n",
    "        \n",
    "        if self.transform is not None:\n",
    "            image = self.transform(image)\n",
    "        \n",
    "        return image, label        \n",
    "        "
   ]
  },
  {
   "cell_type": "code",
   "execution_count": null,
   "id": "a3251c41",
   "metadata": {},
   "outputs": [],
   "source": [
    "class CatsDogsDataModule(pl.LightningDataModule):\n",
    "\n",
    "    def __init__(\n",
    "        self,\n",
    "        batch_size: int = 8,\n",
    "    ):\n",
    "        super().__init__()\n",
    "        \n",
    "        self.batch_size = batch_size\n",
    "        self.classes = ('cat', 'dog')\n",
    "        \n",
    "        train_transform = transforms.Compose([\n",
    "            # We use data augmentation for training\n",
    "            transforms.RandomHorizontalFlip(),\n",
    "            transforms.RandomRotation(0.1),\n",
    "            # We will use a model pretrained on Imagenet, we have to resize images\n",
    "            transforms.Resize(224),\n",
    "#             transforms.RandomCrop(224),\n",
    "            transforms.CenterCrop(224),\n",
    "            \n",
    "            transforms.ToTensor(),\n",
    "            # and to apply the correct normalization\n",
    "            transforms.Normalize(mean=[0.485, 0.456, 0.406],\n",
    "                                 std=[0.229, 0.224, 0.225])])\n",
    "        val_transform = transforms.Compose([\n",
    "            # For validation, we only resize images\n",
    "            transforms.Resize(224),\n",
    "            transforms.CenterCrop(224),\n",
    "            transforms.ToTensor(),\n",
    "            # and apply the correct normalization\n",
    "            transforms.Normalize(mean=[0.485, 0.456, 0.406],\n",
    "                                 std=[0.229, 0.224, 0.225])])\n",
    "        \n",
    "        self.train_set = CatsDogsDataset(data_path='./data/cats_dogs_light/train', transform=train_transform)\n",
    "        self.test_set = CatsDogsDataset(data_path='./data/cats_dogs_light/test', transform=val_transform)\n",
    "\n",
    "    def train_dataloader(self):\n",
    "        return DataLoader(self.train_set, batch_size=self.batch_size, \n",
    "                          num_workers=4, pin_memory=True, shuffle=True)\n",
    "\n",
    "    def val_dataloader(self):\n",
    "        return DataLoader(self.test_set, batch_size=self.batch_size, \n",
    "                          num_workers=4, pin_memory=True)\n"
   ]
  },
  {
   "cell_type": "markdown",
   "id": "a08446a1",
   "metadata": {},
   "source": [
    "### Let's visualize some images"
   ]
  },
  {
   "cell_type": "code",
   "execution_count": null,
   "id": "d667880e",
   "metadata": {},
   "outputs": [],
   "source": [
    "def imshow(inp, title=None):\n",
    "    \"\"\"Imshow for Tensor.\"\"\"\n",
    "    inp = inp.numpy().transpose((1, 2, 0))\n",
    "    mean = np.array([0.485, 0.456, 0.406])\n",
    "    std = np.array([0.229, 0.224, 0.225])\n",
    "    inp = std * inp + mean\n",
    "    inp = np.clip(inp, 0, 1)\n",
    "    plt.figure(figsize=(12, 4))\n",
    "    plt.imshow(inp)\n",
    "    if title is not None:\n",
    "        plt.title(title)\n",
    "    plt.pause(0.001)  # pause a bit so that plots are updated"
   ]
  },
  {
   "cell_type": "code",
   "execution_count": null,
   "id": "b3fc2922",
   "metadata": {
    "scrolled": true
   },
   "outputs": [],
   "source": [
    "data_module = CatsDogsDataModule()\n",
    "# Get a batch of training data\n",
    "inputs, classes = next(iter(data_module.val_dataloader()))\n",
    "\n",
    "# Make a grid from batch\n",
    "out = torchvision.utils.make_grid(inputs)\n",
    "\n",
    "imshow(out, title=[data_module.classes[x] for x in classes])"
   ]
  },
  {
   "cell_type": "markdown",
   "id": "99a83ca0",
   "metadata": {},
   "source": [
    "# Exercises\n",
    "1. Implement and train our VGG like architecture (from tutorial 4) as a baseline. Play a bit with the learning rate. Can you improve the performance of the model ?\n",
    "2. Load a pretrained ResNet18 model. Freeze its weights, replace the last fully connected layer to match the classification case \"Cats vs Dogs\".\n",
    "3. Train the modified ResNet18. How does the performance improve compared to the baseline ? What is the impact of transfer learning on the number of trainable parameters and on the training time ?"
   ]
  },
  {
   "cell_type": "markdown",
   "id": "f8fc78bb",
   "metadata": {},
   "source": [
    "## 1. Implement and train a neural network baseline from scratch\n",
    "As a baseline to evaluate the improvement brought by transfer learning, we implement and train the same VGG like architecture as in T4."
   ]
  },
  {
   "cell_type": "code",
   "execution_count": null,
   "id": "03cccc0b",
   "metadata": {},
   "outputs": [],
   "source": [
    "class BaselineClassifier(pl.LightningModule):\n",
    "\n",
    "    def __init__(\n",
    "        self,\n",
    "        learning_rate: float = 0.0001,\n",
    "    ):\n",
    "        super().__init__()\n",
    "        self.save_hyperparameters()\n",
    "        self.learning_rate = learning_rate\n",
    "        \n",
    "        self.model = ?\n",
    "        \n",
    "        self.accuracy = Accuracy()\n",
    "        \n",
    "    def forward(self, x):\n",
    "        # use forward for inference/predictions\n",
    "        x = self.model(x)\n",
    "        x = F.softmax(x, dim=1)  # Transform network outputs into probabilities       \n",
    "        return x\n",
    "\n",
    "    def training_step(self, batch, batch_idx):\n",
    "        # Function called by Lightning for each iteration\n",
    "        x, y = batch\n",
    "        y_hat = self.model(x)\n",
    "        loss = F.cross_entropy(y_hat, y)  # Includes a LogSoftmax and the NegativeLogLikelihood loss\n",
    "        acc = self.accuracy(F.softmax(y_hat, dim=1), y)\n",
    "        self.log('Loss', {'train_loss': loss}, on_step=False, on_epoch=True)\n",
    "        self.log('Accuracy', {'train_accuracy': acc}, on_step=False, on_epoch=True)\n",
    "        return loss\n",
    "\n",
    "    def validation_step(self, batch, batch_idx):\n",
    "        x, y = batch\n",
    "        y_hat = self.model(x)\n",
    "        loss = F.cross_entropy(y_hat, y)  # Includes a LogSoftmax and the NegativeLogLikelihood loss\n",
    "        acc = self.accuracy(F.softmax(y_hat, dim=1), y)\n",
    "        self.log('Loss', {'val_loss': loss})\n",
    "        self.log('Accuracy', {'val_accuracy': acc})\n",
    "\n",
    "    def test_step(self, batch, batch_idx):\n",
    "        x, y = batch\n",
    "        y_hat = self.model(x)\n",
    "        loss = F.cross_entropy(y_hat, y)  # Includes a LogSoftmax and the NegativeLogLikelihood loss\n",
    "        acc = self.accuracy(F.softmax(y_hat, dim=1), y)\n",
    "        self.log('test_loss', loss)\n",
    "        self.log('test_accuracy', acc)\n",
    "\n",
    "    def configure_optimizers(self):\n",
    "        # self.hparams available because we called self.save_hyperparameters()\n",
    "        optimizer = torch.optim.Adam(self.parameters(), lr=self.hparams.learning_rate)\n",
    "        return [optimizer]\n"
   ]
  },
  {
   "cell_type": "code",
   "execution_count": null,
   "id": "26968d6f",
   "metadata": {},
   "outputs": [],
   "source": [
    "learning_rate = 0.001\n",
    "batch_size = 32\n",
    "max_epochs = 55"
   ]
  },
  {
   "cell_type": "code",
   "execution_count": null,
   "id": "323f779f",
   "metadata": {},
   "outputs": [],
   "source": [
    "# Fix random seed for reproducibility\n",
    "pl.trainer.seed_everything(0)"
   ]
  },
  {
   "cell_type": "code",
   "execution_count": null,
   "id": "becc2952",
   "metadata": {
    "scrolled": false
   },
   "outputs": [],
   "source": [
    "data_module = CatsDogsDataModule(batch_size=batch_size)\n",
    "net_baseline = BaselineClassifier(learning_rate=learning_rate)"
   ]
  },
  {
   "cell_type": "code",
   "execution_count": null,
   "id": "17f61fd1",
   "metadata": {
    "scrolled": false
   },
   "outputs": [],
   "source": [
    "trainer = pl.Trainer(default_root_dir='./lightning_logs/T5_baseline_' + student_name, gpus=gpu, max_epochs=max_epochs)"
   ]
  },
  {
   "cell_type": "code",
   "execution_count": null,
   "id": "57e35834",
   "metadata": {
    "scrolled": false
   },
   "outputs": [],
   "source": [
    "# Let Lightning train the network\n",
    "trainer.fit(net_baseline, data_module)"
   ]
  },
  {
   "cell_type": "markdown",
   "id": "8b126bb7",
   "metadata": {},
   "source": [
    "### Let us check the prediction on some test images"
   ]
  },
  {
   "cell_type": "code",
   "execution_count": null,
   "id": "527e444e",
   "metadata": {},
   "outputs": [],
   "source": [
    "# get some random training images\n",
    "n_img = 8\n",
    "dataiter = iter(data_module.val_dataloader())\n",
    "images, labels = dataiter.next()\n",
    "with torch.no_grad():\n",
    "    predictions = net_baseline(images)\n",
    "predicted_labels = torch.argmax(predictions, dim=1)\n",
    "\n",
    "# show images\n",
    "imshow(torchvision.utils.make_grid(images[:n_img]))\n",
    "# print labels\n",
    "print('Predictions')\n",
    "print(' '.join('%5s' % data_module.classes[pred_lab] for pred_lab in predicted_labels[:n_img]))\n",
    "print('True classes')\n",
    "print(' '.join('%5s' % data_module.classes[true_lab] for true_lab in labels[:n_img]))"
   ]
  },
  {
   "attachments": {
    "resnet18.png": {
     "image/png": "[encoded data removed]"
    }
   },
   "cell_type": "markdown",
   "id": "81c191ff",
   "metadata": {},
   "source": [
    "## 2. Load a pretrained ResNet18\n",
    "For transfer learning, we use a ResNet like model of 18 layers called ResNet18. See https://arxiv.org/pdf/1512.03385.pdf for details.\n",
    "\n",
    "![resnet18.png](attachment:resnet18.png)\n"
   ]
  },
  {
   "attachments": {
    "residual_block.png": {
     "image/png": "[encoded data removed]"
    }
   },
   "cell_type": "markdown",
   "id": "222fbc6a",
   "metadata": {},
   "source": [
    "ResNets are very deep architectures whose specificity lies in their residual blocks. A skip connection that add the input of a block to its output, allows the gradient flowing in the model despite the network depth.\n",
    "\n",
    "![residual_block.png](attachment:residual_block.png)\n"
   ]
  },
  {
   "cell_type": "markdown",
   "id": "2f8b997c",
   "metadata": {},
   "source": [
    "### Some hints on model exploration"
   ]
  },
  {
   "cell_type": "markdown",
   "id": "097eea9b",
   "metadata": {},
   "source": [
    "#### How to load a pretrained model"
   ]
  },
  {
   "cell_type": "code",
   "execution_count": null,
   "id": "639535ea",
   "metadata": {},
   "outputs": [],
   "source": [
    "model = resnet18(pretrained=True)"
   ]
  },
  {
   "cell_type": "code",
   "execution_count": null,
   "id": "bc67ce4c",
   "metadata": {
    "scrolled": true
   },
   "outputs": [],
   "source": [
    "model"
   ]
  },
  {
   "cell_type": "markdown",
   "id": "7bf30cf3",
   "metadata": {},
   "source": [
    "#### How to access layers"
   ]
  },
  {
   "cell_type": "code",
   "execution_count": null,
   "id": "5bb1bb89",
   "metadata": {
    "scrolled": true
   },
   "outputs": [],
   "source": [
    "for name, child in model.named_children():\n",
    "    print(name)"
   ]
  },
  {
   "cell_type": "code",
   "execution_count": null,
   "id": "6fe14ef7",
   "metadata": {
    "scrolled": true
   },
   "outputs": [],
   "source": [
    "for name, modules in model.named_modules():\n",
    "    print(name)"
   ]
  },
  {
   "cell_type": "code",
   "execution_count": null,
   "id": "1e67efd5",
   "metadata": {
    "scrolled": true
   },
   "outputs": [],
   "source": [
    "for name, param in model.named_parameters():\n",
    "    print(name, param.requires_grad)"
   ]
  },
  {
   "cell_type": "markdown",
   "id": "468097a4",
   "metadata": {},
   "source": [
    "#### How to modify a specific layer"
   ]
  },
  {
   "cell_type": "code",
   "execution_count": null,
   "id": "7321bb36",
   "metadata": {},
   "outputs": [],
   "source": [
    "model.relu = torch.nn.LeakyReLU()"
   ]
  },
  {
   "cell_type": "code",
   "execution_count": null,
   "id": "759021ec",
   "metadata": {
    "scrolled": true
   },
   "outputs": [],
   "source": [
    "model"
   ]
  },
  {
   "cell_type": "markdown",
   "id": "0157227d",
   "metadata": {},
   "source": [
    "#### How to modify gradient retaining information"
   ]
  },
  {
   "cell_type": "code",
   "execution_count": null,
   "id": "ab0e907b",
   "metadata": {},
   "outputs": [],
   "source": [
    "model.layer1[0].conv1.weight.requires_grad"
   ]
  },
  {
   "cell_type": "code",
   "execution_count": null,
   "id": "034f8570",
   "metadata": {},
   "outputs": [],
   "source": [
    "model.layer1[0].conv1.weight.requires_grad = False"
   ]
  },
  {
   "cell_type": "code",
   "execution_count": null,
   "id": "eb1f45ab",
   "metadata": {},
   "outputs": [],
   "source": [
    "model.layer1[0].conv1.weight.requires_grad"
   ]
  },
  {
   "cell_type": "markdown",
   "id": "915eb899",
   "metadata": {},
   "source": [
    "### ResNet18 module"
   ]
  },
  {
   "cell_type": "code",
   "execution_count": null,
   "id": "1fc8feb6",
   "metadata": {},
   "outputs": [],
   "source": [
    "class ResNet18PreTrainedClassifier(pl.LightningModule):\n",
    "\n",
    "    def __init__(\n",
    "        self,\n",
    "        learning_rate: float = 0.0001,\n",
    "    ):\n",
    "        super().__init__()\n",
    "        self.save_hyperparameters()\n",
    "        self.learning_rate = learning_rate\n",
    "        self.model = ?\n",
    "        # We first freeze the convolutional part of the network\n",
    "        ?\n",
    "        # We replace the final fully connected layer to match our case\n",
    "        # Only this layer will be trained\n",
    "        ?\n",
    "        \n",
    "        \n",
    "        self.accuracy = Accuracy()\n",
    "        \n",
    "    def forward(self, x):\n",
    "        # use forward for inference/predictions\n",
    "        x = self.model(x)\n",
    "        x = F.softmax(x, dim=1)  # Transform network outputs into probabilities       \n",
    "        return x\n",
    "\n",
    "    def training_step(self, batch, batch_idx):\n",
    "        # Function called by Lightning for each iteration\n",
    "        x, y = batch\n",
    "        y_hat = self.model(x)\n",
    "        loss = F.cross_entropy(y_hat, y)  # Includes a LogSoftmax and the NegativeLogLikelihood loss\n",
    "        acc = self.accuracy(F.softmax(y_hat, dim=1), y)\n",
    "        self.log('Loss', {'train_loss': loss}, on_step=False, on_epoch=True)\n",
    "        self.log('Accuracy', {'train_accuracy': acc}, on_step=False, on_epoch=True)\n",
    "        return loss\n",
    "\n",
    "    def validation_step(self, batch, batch_idx):\n",
    "        x, y = batch\n",
    "        y_hat = self.model(x)\n",
    "        loss = F.cross_entropy(y_hat, y)  # Includes a LogSoftmax and the NegativeLogLikelihood loss\n",
    "        acc = self.accuracy(F.softmax(y_hat, dim=1), y)\n",
    "        self.log('Loss', {'val_loss': loss})\n",
    "        self.log('Accuracy', {'val_accuracy': acc})\n",
    "\n",
    "    def test_step(self, batch, batch_idx):\n",
    "        x, y = batch\n",
    "        y_hat = self.model(x)\n",
    "        loss = F.cross_entropy(y_hat, y)  # Includes a LogSoftmax and the NegativeLogLikelihood loss\n",
    "        acc = self.accuracy(F.softmax(y_hat, dim=1), y)\n",
    "        self.log('test_loss', loss)\n",
    "        self.log('test_accuracy', acc)\n",
    "\n",
    "    def configure_optimizers(self):\n",
    "        # self.hparams available because we called self.save_hyperparameters()\n",
    "        optimizer = torch.optim.SGD(self.parameters(), lr=self.hparams.learning_rate, momentum=0.9)\n",
    "        return [optimizer]\n"
   ]
  },
  {
   "cell_type": "code",
   "execution_count": null,
   "id": "babc7d75",
   "metadata": {},
   "outputs": [],
   "source": [
    "learning_rate = 0.001\n",
    "batch_size = 32\n",
    "max_epochs = 30"
   ]
  },
  {
   "cell_type": "code",
   "execution_count": null,
   "id": "e9871eed",
   "metadata": {},
   "outputs": [],
   "source": [
    "# Fix random seed for reproducibility\n",
    "pl.trainer.seed_everything(0)"
   ]
  },
  {
   "cell_type": "code",
   "execution_count": null,
   "id": "bfd11000",
   "metadata": {
    "scrolled": false
   },
   "outputs": [],
   "source": [
    "data_module = CatsDogsDataModule(batch_size=batch_size)\n",
    "net_module = ResNet18PreTrainedClassifier(learning_rate=learning_rate)"
   ]
  },
  {
   "cell_type": "code",
   "execution_count": null,
   "id": "87e0a873",
   "metadata": {
    "scrolled": true
   },
   "outputs": [],
   "source": [
    "# Let's check that only the last fully connected layer will retain gradient information\n",
    "for name, param in net_module.model.named_parameters():\n",
    "    print(name, param.requires_grad)"
   ]
  },
  {
   "cell_type": "code",
   "execution_count": null,
   "id": "3206349d",
   "metadata": {
    "scrolled": false
   },
   "outputs": [],
   "source": [
    "trainer = pl.Trainer(default_root_dir='./lightning_logs/T5_resnet18_' + student_name, gpus=gpu, max_epochs=max_epochs)\n",
    "\n",
    "# Log network graph to Tensorboard\n",
    "trainer.logger.experiment.add_graph(net_module, torch.rand(batch_size, 3, 32, 32))"
   ]
  },
  {
   "cell_type": "code",
   "execution_count": null,
   "id": "67de3b04",
   "metadata": {
    "scrolled": true
   },
   "outputs": [],
   "source": [
    "# Let Lightning train the network\n",
    "trainer.fit(net_module, data_module)"
   ]
  },
  {
   "cell_type": "markdown",
   "id": "f359223a",
   "metadata": {},
   "source": [
    "### Let us check the prediction on some test images"
   ]
  },
  {
   "cell_type": "code",
   "execution_count": null,
   "id": "10281e4e",
   "metadata": {},
   "outputs": [],
   "source": [
    "# get some random training images\n",
    "n_img = 8\n",
    "dataiter = iter(data_module.val_dataloader())\n",
    "images, labels = dataiter.next()\n",
    "with torch.no_grad():\n",
    "    predictions = net_module(images)\n",
    "predicted_labels = torch.argmax(predictions, dim=1)\n",
    "\n",
    "# show images\n",
    "imshow(torchvision.utils.make_grid(images[:n_img]))\n",
    "# print labels\n",
    "print('Predictions')\n",
    "print(' '.join('%5s' % data_module.classes[pred_lab] for pred_lab in predicted_labels[:n_img]))\n",
    "print('True classes')\n",
    "print(' '.join('%5s' % data_module.classes[true_lab] for true_lab in labels[:n_img]))"
   ]
  },
  {
   "attachments": {
    "down_arrow-3.png": {
     "image/png": "[encoded data removed]"
    }
   },
   "cell_type": "markdown",
   "id": "7e05935b",
   "metadata": {},
   "source": [
    "## Do you need a \"solution\" ?\n",
    "![down_arrow-3.png](attachment:down_arrow-3.png)"
   ]
  },
  {
   "cell_type": "markdown",
   "id": "600b6105",
   "metadata": {},
   "source": [
    "## Baseline"
   ]
  },
  {
   "cell_type": "markdown",
   "id": "d088c53d",
   "metadata": {},
   "source": [
    "### Hints"
   ]
  },
  {
   "cell_type": "markdown",
   "id": "d4c95a89",
   "metadata": {},
   "source": [
    "* Beware of the number of output_features of the last FC layer."
   ]
  },
  {
   "cell_type": "markdown",
   "id": "387cfe25",
   "metadata": {},
   "source": [
    "### Solution"
   ]
  },
  {
   "cell_type": "code",
   "execution_count": null,
   "id": "1d0f436b",
   "metadata": {},
   "outputs": [],
   "source": [
    "# VGG like network\n",
    "self.model = torch.nn.Sequential(  \n",
    "            torch.nn.Conv2d(in_channels=3, out_channels=16, kernel_size=3, padding=1),\n",
    "            torch.nn.LeakyReLU(),\n",
    "            torch.nn.Conv2d(in_channels=16, out_channels=16, kernel_size=3, padding=1),\n",
    "            torch.nn.LeakyReLU(),\n",
    "            torch.nn.MaxPool2d(kernel_size=2, stride=2),\n",
    "            torch.nn.Conv2d(in_channels=16, out_channels=32, kernel_size=3, padding=1),\n",
    "            torch.nn.LeakyReLU(),\n",
    "            torch.nn.Conv2d(in_channels=32, out_channels=32, kernel_size=3, padding=1),\n",
    "            torch.nn.LeakyReLU(),\n",
    "            torch.nn.MaxPool2d(kernel_size=2, stride=2),\n",
    "            torch.nn.Conv2d(in_channels=32, out_channels=64, kernel_size=3, padding=1),\n",
    "            torch.nn.LeakyReLU(),\n",
    "            torch.nn.Conv2d(in_channels=64, out_channels=64, kernel_size=3, padding=1),\n",
    "            torch.nn.LeakyReLU(),\n",
    "            torch.nn.AdaptiveAvgPool2d(output_size=(1, 1)),\n",
    "            torch.nn.Flatten(),\n",
    "            torch.nn.Linear(in_features=64, out_features=2)\n",
    "        )"
   ]
  },
  {
   "cell_type": "markdown",
   "id": "909b602f",
   "metadata": {},
   "source": [
    "## Pretrained ResNet18"
   ]
  },
  {
   "cell_type": "markdown",
   "id": "e67c29dd",
   "metadata": {},
   "source": [
    "### Hints"
   ]
  },
  {
   "cell_type": "markdown",
   "id": "c0a6ab80",
   "metadata": {},
   "source": [
    "* You can use model.parameters() to access the requires_grad information in a for loop\n",
    "* Beware of the number of input_features and output_features of the last FC layer"
   ]
  },
  {
   "cell_type": "markdown",
   "id": "b0ada036",
   "metadata": {},
   "source": [
    "### Solution"
   ]
  },
  {
   "cell_type": "code",
   "execution_count": null,
   "id": "54c3e92b",
   "metadata": {},
   "outputs": [],
   "source": [
    "self.model = resnet18(pretrained=True)\n",
    "# We first freeze the convolutional part of the network\n",
    "for param in self.model.parameters():\n",
    "    param.requires_grad = False\n",
    "# We replace the final fully connected layer to match our case\n",
    "# Only this layer will be trained\n",
    "num_ftrs = self.model.fc.in_features\n",
    "self.model.fc = torch.nn.Linear(in_features=num_ftrs, out_features=2)"
   ]
  }
 ],
 "metadata": {
  "celltoolbar": "Aucun(e)",
  "kernelspec": {
   "display_name": "Python 3 (ipykernel)",
   "language": "python",
   "name": "python3"
  },
  "language_info": {
   "codemirror_mode": {
    "name": "ipython",
    "version": 3
   },
   "file_extension": ".py",
   "mimetype": "text/x-python",
   "name": "python",
   "nbconvert_exporter": "python",
   "pygments_lexer": "ipython3",
   "version": "3.10.4"
  }
 },
 "nbformat": 4,
 "nbformat_minor": 5
}
