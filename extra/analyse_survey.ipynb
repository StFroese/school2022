{
  "cells": [
    {
      "cell_type": "code",
      "source": [
        "# !pip install googlemaps\n",
        "# !pip install geopy"
      ],
      "outputs": [],
      "execution_count": null,
      "metadata": {"execution": {
      "allow_errors": true}},
      "id": "18f9ced1"
    },
    {
      "cell_type": "code",
      "source": [
        "import pandas as pd\n",
        "import googlemaps as gm\n",
        "import matplotlib.pyplot as plt\n",
        "import os\n",
        "from collections import Counter\n",
        "import seaborn as sns"
      ],
      "outputs": [],
      "execution_count": null,
      "metadata": {},
      "id": "1fc9c8a0"
    },
    {
      "cell_type": "code",
      "source": [
        "# from geopy.geocoders import Nominatim\n",
        "# geolocator = Nominatim(user_agent=\"example app\")"
      ],
      "outputs": [],
      "execution_count": null,
      "metadata": {},
      "id": "964142af"
    },
    {
      "cell_type": "code",
      "source": [
        "params = {'legend.fontsize': 'xx-large',\n",
        "#           'figure.figsize': (15, 5),\n",
        "         'axes.labelsize': 'xx-large',\n",
        "         'axes.titlesize':'xx-large',\n",
        "         'xtick.labelsize':'xx-large',\n",
        "         'ytick.labelsize':'xx-large'}\n",
        "plt.rcParams.update(params)"
      ],
      "outputs": [],
      "execution_count": null,
      "metadata": {},
      "id": "171db4dd"
    },
    {
      "cell_type": "code",
      "source": [
        "df = pd.read_csv('results-survey364879.csv')"
      ],
      "outputs": [],
      "execution_count": null,
      "metadata": {},
      "id": "780d6ceb"
    },
    {
      "cell_type": "code",
      "source": [
        "len(df)"
      ],
      "outputs": [],
      "execution_count": null,
      "metadata": {},
      "id": "ef2805ac"
    },
    {
      "cell_type": "code",
      "source": [
        "df.columns"
      ],
      "outputs": [],
      "execution_count": null,
      "metadata": {},
      "id": "656d7ca9"
    },
    {
      "cell_type": "code",
      "source": [
        "df[['Your name and affiliation ', 'How do you identify', 'How do you identify [Other]']]"
      ],
      "outputs": [],
      "execution_count": null,
      "metadata": {},
      "id": "5235641b"
    },
    {
      "cell_type": "code",
      "source": [
        "set(df['Any comment you would like to make.'])"
      ],
      "outputs": [],
      "execution_count": null,
      "metadata": {},
      "id": "09673feb"
    },
    {
      "cell_type": "code",
      "source": [],
      "outputs": [],
      "execution_count": null,
      "metadata": {},
      "id": "563277fa"
    },
    {
      "cell_type": "code",
      "source": [
        "def add_stats(pps, counts, ax, fontsize=20):\n",
        "    \n",
        "    tot = np.sum(counts)\n",
        "    for (p, c) in zip(pps, counts):\n",
        "        height = p.get_height()\n",
        "        pcent = 100 * c / tot\n",
        "        ax.annotate(f'{pcent:.1f}%',\n",
        "                    xy=(p.get_x() + p.get_width() / 2, height),\n",
        "                    xytext=(0, 3), # 3 points vertical offset\n",
        "                    textcoords=\"offset points\",\n",
        "                    ha='center',\n",
        "                    va='bottom',\n",
        "                    fontsize=fontsize\n",
        "                   )\n",
        "    hmax = np.max([p.get_height() for p in pps])\n",
        "    ylim = ax.get_ylim()\n",
        "    ax.set_ylim(ylim[0], 1.1*ylim[1])"
      ],
      "outputs": [],
      "execution_count": null,
      "metadata": {},
      "id": "302fc068"
    },
    {
      "cell_type": "markdown",
      "source": [
        "## Who are you ?"
      ],
      "metadata": {},
      "id": "b66d20b9"
    },
    {
      "cell_type": "code",
      "source": [],
      "outputs": [],
      "execution_count": null,
      "metadata": {},
      "id": "3e72f30b"
    },
    {
      "cell_type": "code",
      "source": [
        "myorder = ['< 21', '21-25', '26-30', '31-35', '36-40', '> 40']\n",
        "count = Counter(df['Your age group '])\n",
        "count_list = [count[cc] for cc in myorder]\n",
        "\n",
        "fig, ax = plt.subplots()\n",
        "pps = plt.bar(myorder, count_list)\n",
        "add_stats(pps, count_list, ax)\n",
        "plt.title('Age groups')\n",
        "plt.tight_layout()\n",
        "# plt.grid(True)\n",
        "plt.savefig('age.eps')"
      ],
      "outputs": [],
      "execution_count": null,
      "metadata": {},
      "id": "90c41d21"
    },
    {
      "cell_type": "code",
      "source": [
        "# df['How do you identify'] = df['How do you identify'].replace('Autre', 'Other')\n",
        "gender = Counter(df['How do you identify'].dropna())\n",
        "fig, ax = plt.subplots()\n",
        "count = list(gender.values())\n",
        "pps = plt.bar(list(gender.keys()), count)\n",
        "add_stats(pps, count, ax)\n",
        "plt.title('How do you identify')\n",
        "plt.tight_layout()\n",
        "plt.savefig('gender.eps')"
      ],
      "outputs": [],
      "execution_count": null,
      "metadata": {},
      "id": "f2e88ed4"
    },
    {
      "cell_type": "code",
      "source": [
        "Counter(df[col])"
      ],
      "outputs": [],
      "execution_count": null,
      "metadata": {},
      "id": "73631355-6671-4fa8-9e1d-846b6228eab8"
    },
    {
      "cell_type": "code",
      "source": [
        "add_stats"
      ],
      "outputs": [],
      "execution_count": null,
      "metadata": {},
      "id": "5879f11b-3c41-4936-889c-a17b0237d23b"
    },
    {
      "cell_type": "code",
      "source": [
        "count_d.items()"
      ],
      "outputs": [],
      "execution_count": null,
      "metadata": {},
      "id": "5034557b-eabb-4488-a575-181b2fd0bfde"
    },
    {
      "cell_type": "code",
      "source": [
        "fig, ax = plt.subplots(figsize=(10,5))\n",
        "col = 'Your position'\n",
        "# df[col] = df[col].replace('Autre', 'Other')\n",
        "# names = ['Undergraduate', 'Master student', 'PhD student', 'Postdoc', 'Senior researcher or Professor', 'Engineer (in academia)', 'Other']\n",
        "count_d = Counter(df[col].dropna())\n",
        "names = [n.replace(' ','\\n') for n in count_d.keys()]\n",
        "count = [count_d[col] for col in count_d.keys()] \n",
        "# names[0] = 'Undergrad' \n",
        "# names[1] = 'Master\\nstudent' \n",
        "# names[2] = 'PhD\\nstudent' \n",
        "# names[4] = 'Senior\\nresearcher'\n",
        "# names[5] = 'Academia\\nEngineer'\n",
        "\n",
        "pps = plt.bar(names, count)\n",
        "\n",
        "add_stats(pps, count, ax)\n",
        "# for p in pps:\n",
        "#    height = p.get_height()\n",
        "#    ax.annotate('{}'.format(height),\n",
        "#       xy=(p.get_x() + p.get_width() / 2, height),\n",
        "#       xytext=(0, 3), # 3 points vertical offset\n",
        "#       textcoords=\"offset points\",\n",
        "#       ha='center', va='bottom')\n",
        "\n",
        "\n",
        "plt.xlabel('')\n",
        "plt.title('Positions')\n",
        "# plt.tight_layout()\n",
        "plt.tight_layout()\n",
        "plt.savefig('position.eps')"
      ],
      "outputs": [],
      "execution_count": null,
      "metadata": {},
      "id": "c67fb24b"
    },
    {
      "cell_type": "code",
      "source": [
        "set(df['Your position [Other]'])"
      ],
      "outputs": [],
      "execution_count": null,
      "metadata": {},
      "id": "1f021d2b"
    },
    {
      "cell_type": "code",
      "source": [
        "col = 'Are you an ESCAPE member ?'\n",
        "df[col] = df[col].replace('Autre', 'Other')\n",
        "df[col] = df[col].replace('Oui', 'Yes')\n",
        "df[col] = df[col].replace('Non', 'No')\n",
        "count = Counter(df[col].dropna())\n",
        "fig, ax = plt.subplots()\n",
        "pps = plt.bar(list(count.keys()), list(count.values()))\n",
        "add_stats(pps, list(count.values()), ax)\n",
        "plt.title('ESCAPE members')\n",
        "plt.tight_layout()\n",
        "plt.savefig('escape_member.png')"
      ],
      "outputs": [],
      "execution_count": null,
      "metadata": {},
      "id": "93902343"
    },
    {
      "cell_type": "code",
      "source": [
        "df['How did your hear about the school? [Other]']"
      ],
      "outputs": [],
      "execution_count": null,
      "metadata": {},
      "id": "d5fb8989"
    },
    {
      "cell_type": "code",
      "source": [
        "df['How did your hear about the school?'] = df['How did your hear about the school?'].replace('Other', 'From a colleague')"
      ],
      "outputs": [],
      "execution_count": null,
      "metadata": {},
      "id": "7084ec15"
    },
    {
      "cell_type": "code",
      "source": [
        "\n",
        "col = 'How did your hear about the school?'\n",
        "# df[col] = df[col].replace('Autre', 'Other')\n",
        "count = Counter(df[col].dropna())\n",
        "\n",
        "fig, ax = plt.subplots(figsize=(15,5))\n",
        "names = [n.replace(' ', '\\n') for n in count.keys()]\n",
        "names[2] = 'From my\\ncollaboration/\\nproject'\n",
        "pps = plt.bar(names, list(count.values()))\n",
        "add_stats(pps, list(count.values()), ax)\n",
        "\n",
        "xticklabels = ax.get_xticklabels()\n",
        "xticklabels[2].set_text('From my collaboration\\nor project')\n",
        "# ax.set_xticklabels(xticklabels)\n",
        "# ax.set_xticks(xticks, rotation=10)\n",
        "# plt.xticks(rotation=10)\n",
        "plt.title('How did you hear about the school?')\n",
        "plt.tight_layout()\n",
        "plt.savefig('hear_school.png')"
      ],
      "outputs": [],
      "execution_count": null,
      "metadata": {},
      "id": "41fc665f"
    },
    {
      "cell_type": "code",
      "source": [
        "\n",
        "cols = [f for f in df.columns if f.startswith('Why did you register')]\n",
        "for col in cols:\n",
        "    df[col] = df[col].replace('Oui', 'Yes')\n",
        "    df[col] = df[col].replace('Non', 'No')\n",
        "\n",
        "answers = [c.replace('Why did you register? ', '') for c in cols][:-1]\n",
        "answers[1] = 'Necessary for my work'\n",
        "answers[2] = 'For a specific course'\n",
        "counts = [Counter(df[col])['Yes'] for col in cols][:-1]\n",
        "\n",
        "fig, ax = plt.subplots(figsize=(15,5))\n",
        "pps = plt.bar(answers, counts)\n",
        "add_stats(pps, counts, ax)\n",
        "\n",
        "plt.xticks(rotation=0)\n",
        "plt.title('Why did you register at the school?')\n",
        "plt.tight_layout()\n",
        "plt.savefig('why_register.png')"
      ],
      "outputs": [],
      "execution_count": null,
      "metadata": {},
      "id": "42c5bc9b"
    },
    {
      "cell_type": "code",
      "source": [],
      "outputs": [],
      "execution_count": null,
      "metadata": {},
      "id": "066b7c7a"
    },
    {
      "cell_type": "code",
      "source": [
        "df['Your operating system [Other]']"
      ],
      "outputs": [],
      "execution_count": null,
      "metadata": {},
      "id": "7b8e703a"
    },
    {
      "cell_type": "code",
      "source": [
        "# Others are actually on macOS\n",
        "df['Your operating system'] = df['Your operating system'].replace('Other', 'macOS')"
      ],
      "outputs": [],
      "execution_count": null,
      "metadata": {},
      "id": "13cbe696"
    },
    {
      "cell_type": "code",
      "source": [
        "plt.figure(figsize=(15,5))\n",
        "col = 'Your operating system'\n",
        "df[col] = df[col].replace('iOS', 'macOS')\n",
        "count = Counter(df[col].dropna())\n",
        "\n",
        "fig, ax = plt.subplots(figsize=(12,5))\n",
        "pps = plt.bar(list(count.keys()), list(count.values()))\n",
        "add_stats(pps, list(count.values()), ax)\n",
        "\n",
        "plt.title(col)\n",
        "plt.tight_layout()\n",
        "plt.savefig('operating_system.png')"
      ],
      "outputs": [],
      "execution_count": null,
      "metadata": {},
      "id": "6d9bdb2a"
    },
    {
      "cell_type": "markdown",
      "source": [
        "## Where are you from ?"
      ],
      "metadata": {},
      "id": "35895017"
    },
    {
      "cell_type": "code",
      "source": [
        "# !pip install pycountry-convert"
      ],
      "outputs": [],
      "execution_count": null,
      "metadata": {},
      "id": "417e98ae"
    },
    {
      "cell_type": "code",
      "source": [
        "# !pip install plotly\n",
        "# !pip install -U kaleido"
      ],
      "outputs": [],
      "execution_count": null,
      "metadata": {},
      "id": "43817831"
    },
    {
      "cell_type": "code",
      "source": [
        "import pycountry, pycountry_convert\n",
        "from geopy.geocoders import Nominatim"
      ],
      "outputs": [],
      "execution_count": null,
      "metadata": {},
      "id": "ec75340c"
    },
    {
      "cell_type": "code",
      "source": [
        "def get_continent_name(country_name):\n",
        "    try:\n",
        "        country_code = pycountry_convert.country_name_to_country_alpha2(country_name)\n",
        "        cont_code = pycountry_convert.country_alpha2_to_continent_code(country_code)\n",
        "        cont_name = pycountry_convert.convert_continent_code_to_continent_name(cont_code)\n",
        "        \n",
        "    except:\n",
        "        cont_name = None\n",
        "    return cont_name"
      ],
      "outputs": [],
      "execution_count": null,
      "metadata": {},
      "id": "7a6b417b"
    },
    {
      "cell_type": "code",
      "source": [
        "df.columns"
      ],
      "outputs": [],
      "execution_count": null,
      "metadata": {},
      "id": "07df9808-22e3-4b5b-91a8-8b59c20158f9"
    },
    {
      "cell_type": "code",
      "source": [
        "location_col = 'Your location  \\xa0    \\xa0  '\n",
        "df[['lat', 'lon']] = df[location_col].str.split(';', expand=True).astype(float)"
      ],
      "outputs": [],
      "execution_count": null,
      "metadata": {},
      "id": "705ef79c"
    },
    {
      "cell_type": "code",
      "source": [
        "df_map = df[['lat', 'lon']].dropna()"
      ],
      "outputs": [],
      "execution_count": null,
      "metadata": {},
      "id": "5d44cb2b"
    },
    {
      "cell_type": "code",
      "source": [
        "# import pickle"
      ],
      "outputs": [],
      "execution_count": null,
      "metadata": {},
      "id": "fe869903"
    },
    {
      "cell_type": "code",
      "source": [
        "geolocator = Nominatim(user_agent=\"geoapiExercises\")\n",
        "locations = [geolocator.reverse(f'{df_map.iloc[i].lat},{df_map.iloc[i].lon}', language='en', zoom=0)\n",
        "             for i in range(len(df_map))]"
      ],
      "outputs": [],
      "execution_count": null,
      "metadata": {},
      "id": "c0955c49"
    },
    {
      "cell_type": "code",
      "source": [
        "# with open('locations.pkl', 'wb') as file:\n",
        "#     pickle.dump(locations, file)"
      ],
      "outputs": [],
      "execution_count": null,
      "metadata": {},
      "id": "336c72f0"
    },
    {
      "cell_type": "code",
      "source": [
        "# ls -lsh locations.pkl"
      ],
      "outputs": [],
      "execution_count": null,
      "metadata": {},
      "id": "91540019"
    },
    {
      "cell_type": "code",
      "source": [
        "# with open('locations.pkl', 'rb') as file:\n",
        "#     locations = pickle.load(file)"
      ],
      "outputs": [],
      "execution_count": null,
      "metadata": {},
      "id": "7189920c"
    },
    {
      "cell_type": "code",
      "source": [
        "locations"
      ],
      "outputs": [],
      "execution_count": null,
      "metadata": {},
      "id": "2f9c575a-c644-4f42-ae30-85faa27015da"
    },
    {
      "cell_type": "code",
      "source": [
        "countries = []\n",
        "locs = []\n",
        "for l in locations:\n",
        "    try:\n",
        "        countries.append(l[0])\n",
        "        locs.append(l[1])\n",
        "    except:\n",
        "        countries.append('Other')\n",
        "        locs.append([0,0])\n",
        "        \n",
        "countries = np.array(countries)\n",
        "locs = np.array(locs)\n",
        "countries_n = np.array([np.count_nonzero(countries==c) for c in countries])\n",
        "countries_loc = np.array([np.mean(locs[countries==c], axis=0) for c in set(countries)])"
      ],
      "outputs": [],
      "execution_count": null,
      "metadata": {},
      "id": "045303ce"
    },
    {
      "cell_type": "code",
      "source": [
        "# countries_df = pd.DataFrame(np.transpose([names, vals, countries_loc[:,1], countries_loc[:,0]]),\n",
        "#                             columns=['country', 'n_participants', 'lon', 'lat'],\n",
        "#                            )\n",
        "\n",
        "# countries_df = countries_df.astype({'country': str,\n",
        "#                                    'n_participants': int,\n",
        "#                                    'lon': float,\n",
        "#                                    'lat': float\n",
        "#                                   })\n",
        "\n",
        "# countries_df.head()"
      ],
      "outputs": [],
      "execution_count": null,
      "metadata": {},
      "id": "422bae16"
    },
    {
      "cell_type": "code",
      "source": [
        "fig, ax = plt.subplots(figsize=(15,5))\n",
        "count = Counter(countries)\n",
        "vals = list(count.values())\n",
        "names = list(count.keys())\n",
        "ss = np.argsort(vals)[::-1][:20]\n",
        "names = np.array([str(n) for n in names])[ss]\n",
        "vals = np.array(vals)[ss]\n",
        "\n",
        "pps = plt.bar(names, vals)\n",
        "add_stats(pps, vals, ax)\n",
        "\n",
        "plt.title('Countries')\n",
        "plt.xticks(rotation=90)\n",
        "plt.tight_layout()\n",
        "plt.savefig('countries.png')"
      ],
      "outputs": [],
      "execution_count": null,
      "metadata": {},
      "id": "df4e36d2"
    },
    {
      "cell_type": "code",
      "source": [
        "continents = np.array([get_continent_name(country) for country in countries])"
      ],
      "outputs": [],
      "execution_count": null,
      "metadata": {},
      "id": "873a6e87"
    },
    {
      "cell_type": "code",
      "source": [
        "set(continents)"
      ],
      "outputs": [],
      "execution_count": null,
      "metadata": {},
      "id": "94aeed6e"
    },
    {
      "cell_type": "code",
      "source": [
        "continents[continents==None] = 'Asia'  # from manual inspection they are all from Asia\n",
        "set(continents)"
      ],
      "outputs": [],
      "execution_count": null,
      "metadata": {},
      "id": "2ea04175"
    },
    {
      "cell_type": "code",
      "source": [
        "df_map['country']=countries\n",
        "df_map['continent']=continents\n",
        "df_map['country_size'] = np.array([np.count_nonzero(countries==df_map['country'].iloc[i]) for i in range(len(df_map))],\n",
        "                                  dtype=int)\n",
        "df_map['continent_size'] = np.array([np.count_nonzero(continents==df_map['continent'].iloc[i]) for i in range(len(df_map))],\n",
        "                                     dtype=int)\n",
        "\n",
        "print(df_map.dtypes)\n",
        "df_map.head()"
      ],
      "outputs": [],
      "execution_count": null,
      "metadata": {},
      "id": "03adef80"
    },
    {
      "cell_type": "code",
      "source": [
        "fig, ax = plt.subplots(figsize=(15,5))\n",
        "count = Counter(continents)\n",
        "vals = list(count.values())\n",
        "names = list(count.keys())\n",
        "ss = np.argsort(vals)[::-1]\n",
        "names = np.array([str(n) for n in names])[ss]\n",
        "vals = np.array(vals)[ss]\n",
        "\n",
        "pps = plt.bar(names, vals)\n",
        "add_stats(pps, vals, ax)\n",
        "\n",
        "plt.title('Continents')\n",
        "plt.xticks(rotation=0)\n",
        "plt.tight_layout()\n",
        "plt.savefig('continents.png')"
      ],
      "outputs": [],
      "execution_count": null,
      "metadata": {},
      "id": "b858e023"
    },
    {
      "cell_type": "code",
      "source": [
        "from sklearn.cluster import k_means\n",
        "\n",
        "pos, labels, _ = k_means(df[['lat', 'lon']].dropna(), 6)\n",
        "\n",
        "sizes = np.array([np.count_nonzero(labels==i) for i in range(len(set(labels)))])"
      ],
      "outputs": [],
      "execution_count": null,
      "metadata": {},
      "id": "afdc45b8"
    },
    {
      "cell_type": "code",
      "source": [
        "len(labels), len(pos), len(sizes)"
      ],
      "outputs": [],
      "execution_count": null,
      "metadata": {},
      "id": "9ab87540"
    },
    {
      "cell_type": "code",
      "source": [
        "clusters = pd.DataFrame(data=pos, columns=['lat', 'lon'])"
      ],
      "outputs": [],
      "execution_count": null,
      "metadata": {},
      "id": "8c5d8382"
    },
    {
      "cell_type": "code",
      "source": [
        "prop_cycle = plt.rcParams['axes.prop_cycle']\n",
        "colors = prop_cycle.by_key()['color']"
      ],
      "outputs": [],
      "execution_count": null,
      "metadata": {},
      "id": "844c8075"
    },
    {
      "cell_type": "code",
      "source": [
        "import plotly.express as px\n",
        "import plotly.graph_objects as go"
      ],
      "outputs": [],
      "execution_count": null,
      "metadata": {},
      "id": "57d90180-beb5-4649-8a1a-38de2c9bca6a"
    },
    {
      "cell_type": "code",
      "source": [
        "fig = px.scatter_geo(df_map, lon='lon', lat='lat',\n",
        "                     projection=\"natural earth\",\n",
        "                     color='country',\n",
        "                     size=0.01*np.ones(len(df_map)),\n",
        "                     size_max=4\n",
        "                    )\n",
        "fig.write_image('locations.png', format='png', scale=4)\n",
        "\n",
        "fig.show()"
      ],
      "outputs": [],
      "execution_count": null,
      "metadata": {},
      "id": "05e6d36f-8989-4880-a69d-9aa091afa4b1"
    },
    {
      "cell_type": "code",
      "source": [
        "fig = px.scatter_geo(data_frame=clusters, \n",
        "                     # longitude is taken from the df[\"lon\"] columns and latitude from df[\"lat\"]\n",
        "                     lon=\"lon\", \n",
        "                     lat=\"lat\", \n",
        "                     # choose the map chart's projection\n",
        "                     projection=\"natural earth\",\n",
        "                     \n",
        "                     color=sizes,\n",
        "                     size=sizes,\n",
        "#                      color_discrete_sequence=True\n",
        "                     )\n",
        "\n",
        "\n",
        "fig.update_traces(marker=dict(size=8*sizes,\n",
        "                              color=colors\n",
        "                             )\n",
        "                 )\n",
        "fig.write_image('world_clusters.png', format='png', scale=4)\n",
        "fig.show()"
      ],
      "outputs": [],
      "execution_count": null,
      "metadata": {},
      "id": "8a08e286"
    },
    {
      "cell_type": "code",
      "source": [
        "import plotly.express as px\n",
        "import plotly.graph_objects as go\n",
        "\n",
        "\n",
        "grped_map = df_map.groupby('country').mean()\n",
        "grped_map['country'] = grped_map.index\n",
        "fig = px.scatter_geo(data_frame=grped_map, \n",
        "                     # longitude is taken from the df[\"lon\"] columns and latitude from df[\"lat\"]\n",
        "                     lon=\"lon\", \n",
        "                     lat=\"lat\", \n",
        "                     # choose the map chart's projection\n",
        "                     projection=\"natural earth\",\n",
        "                     size='country_size',\n",
        "                     color='country_size',\n",
        "                     hover_name='country',\n",
        "#                      color_continuous_scale=px.colors.sequential.Viridis\n",
        "                     )\n",
        "\n",
        "\n",
        "fig.update_traces(marker=dict(size=1.3*grped_map['country_size'],\n",
        "#                               color=colors,\n",
        "                              \n",
        "                             )\n",
        "                 )\n",
        "fig.write_image('world_country.png', format='png', scale=4)\n",
        "fig.show()"
      ],
      "outputs": [],
      "execution_count": null,
      "metadata": {},
      "id": "7a0faaf0"
    },
    {
      "cell_type": "code",
      "source": [
        "import plotly.express as px\n",
        "import plotly.graph_objects as go\n",
        "\n",
        "\n",
        "grped_map = df_map.groupby('continent').mean()\n",
        "grped_map['continent'] = grped_map.index\n",
        "fig = px.scatter_geo(data_frame=grped_map, \n",
        "                     # longitude is taken from the df[\"lon\"] columns and latitude from df[\"lat\"]\n",
        "                     lon=\"lon\", \n",
        "                     lat=\"lat\", \n",
        "                     # choose the map chart's projection\n",
        "                     projection=\"natural earth\",\n",
        "                     size='continent_size',\n",
        "                     color='continent_size',\n",
        "                     hover_name='continent'\n",
        "                     )\n",
        "\n",
        "\n",
        "fig.update_traces(marker=dict(size=10*grped_map['continent_size'],\n",
        "#                               color=colors\n",
        "                             )\n",
        "                 )\n",
        "fig.write_image('world_continent.png', format='png', scale=4)\n",
        "fig.show()"
      ],
      "outputs": [],
      "execution_count": null,
      "metadata": {},
      "id": "5e6d5f2b"
    },
    {
      "cell_type": "code",
      "source": [
        "# import plotly.express as px\n",
        "\n",
        "\n",
        "# fig = px.scatter_geo(data_frame=df_map.dropna(), \n",
        "#                      # longitude is taken from the df[\"lon\"] columns and latitude from df[\"lat\"]\n",
        "#                      lon=\"lon\", \n",
        "#                      lat=\"lat\", \n",
        "#                      # choose the map chart's projection\n",
        "#                      projection=\"natural earth\",\n",
        "#                      # columns which is in bold in the pop up\n",
        "#                      hover_name = \"Your location\",\n",
        "#                      # format of the popup not to display these columns' data\n",
        "#                      hover_data = {\"Your location\":False,\n",
        "#                                    \"lon\": False,\n",
        "#                                    \"lat\": False\n",
        "#                                      },\n",
        "#                      color=continents,\n",
        "# #                      color=countries\n",
        "#                      )\n",
        "\n",
        "\n",
        "\n",
        "# fig.update_traces(marker=dict(size=4,\n",
        "# #                               color=colors\n",
        "#                              )\n",
        "#                  )\n",
        "\n",
        "# fig.write_image('worldmap_scatter.png', format='png', scale=4)\n",
        "\n",
        "# fig.show()\n"
      ],
      "outputs": [],
      "execution_count": null,
      "metadata": {},
      "id": "9194f0fe"
    },
    {
      "cell_type": "code",
      "source": [],
      "outputs": [],
      "execution_count": null,
      "metadata": {},
      "id": "e6eadf12"
    },
    {
      "cell_type": "markdown",
      "source": [
        "## Courses level"
      ],
      "metadata": {},
      "id": "6ee4e67d"
    },
    {
      "cell_type": "code",
      "source": [
        "df.columns"
      ],
      "outputs": [],
      "execution_count": null,
      "metadata": {},
      "id": "379f662d"
    },
    {
      "cell_type": "code",
      "source": [
        "python_level_col = 'Your Python level from 0 (never heard of it) to 10 (you are Guido van Rossum)  \\xa0  '"
      ],
      "outputs": [],
      "execution_count": null,
      "metadata": {},
      "id": "4f07eaa4"
    },
    {
      "cell_type": "code",
      "source": [
        "plevel = Counter(df[python_level_col].dropna())\n",
        "plt.bar(list(plevel.keys()), list(plevel.values()))\n",
        "plt.xticks(np.arange(0,11))\n",
        "plt.xlabel('Python level')\n",
        "plt.tight_layout()\n",
        "plt.savefig('python_level.png')"
      ],
      "outputs": [],
      "execution_count": null,
      "metadata": {},
      "id": "6b9f9c57"
    },
    {
      "cell_type": "code",
      "source": [],
      "outputs": [],
      "execution_count": null,
      "metadata": {},
      "id": "bc58d1ed"
    }
  ],
  "metadata": {
    "kernelspec": {
      "display_name": "Python 3 (ipykernel)",
      "language": "python",
      "name": "python3"
    },
    "language_info": {
      "codemirror_mode": {
        "name": "ipython",
        "version": 3
      },
      "file_extension": ".py",
      "mimetype": "text/x-python",
      "name": "python",
      "nbconvert_exporter": "python",
      "pygments_lexer": "ipython3",
      "version": "3.10.5"
    },
    "nteract": {
      "version": "0.28.0"
    }
  },
  "nbformat": 4,
  "nbformat_minor": 5
}
