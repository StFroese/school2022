{
 "cells": [
  {
   "cell_type": "markdown",
   "metadata": {
    "slideshow": {
     "slide_type": "slide"
    }
   },
   "source": [
    "# A Tiny Temperature Converter Library\n",
    "## Written in Julia (a naive approach)\n",
    "\n",
    "Based on a wonderful example from _Erik Engheim_"
   ]
  },
  {
   "cell_type": "markdown",
   "metadata": {
    "slideshow": {
     "slide_type": "slide"
    }
   },
   "source": [
    "We start with some type definitions!"
   ]
  },
  {
   "cell_type": "code",
   "execution_count": 1,
   "metadata": {
    "slideshow": {
     "slide_type": "fragment"
    }
   },
   "outputs": [],
   "source": [
    "abstract type Temperature end\n",
    "\n",
    "struct Celsius <: Temperature\n",
    "    value::Float64\n",
    "end\n",
    "\n",
    "struct Kelvin <: Temperature\n",
    "   value::Float64 \n",
    "end\n",
    "\n",
    "struct Fahrenheit <: Temperature\n",
    "    value::Float64\n",
    "end"
   ]
  },
  {
   "cell_type": "markdown",
   "metadata": {
    "slideshow": {
     "slide_type": "subslide"
    }
   },
   "source": [
    "Define the promotion rules, so Julia knows our preferences when mixing types."
   ]
  },
  {
   "cell_type": "code",
   "execution_count": 2,
   "metadata": {
    "slideshow": {
     "slide_type": "fragment"
    }
   },
   "outputs": [
    {
     "data": {
      "text/plain": [
       "promote_rule (generic function with 127 methods)"
      ]
     },
     "execution_count": 2,
     "metadata": {},
     "output_type": "execute_result"
    }
   ],
   "source": [
    "import Base: promote_rule  # we import the `promote_rule` function to add our own methods\n",
    "\n",
    "promote_rule(::Type{Kelvin}, ::Type{Celsius})     = Kelvin\n",
    "promote_rule(::Type{Fahrenheit}, ::Type{Celsius}) = Celsius\n",
    "promote_rule(::Type{Fahrenheit}, ::Type{Kelvin})  = Kelvin"
   ]
  },
  {
   "cell_type": "markdown",
   "metadata": {
    "slideshow": {
     "slide_type": "subslide"
    }
   },
   "source": [
    "We implement the conversion logic by adding methods to the `convert` function, available in the `Base` of Julia."
   ]
  },
  {
   "cell_type": "code",
   "execution_count": 3,
   "metadata": {
    "slideshow": {
     "slide_type": "fragment"
    }
   },
   "outputs": [
    {
     "data": {
      "text/plain": [
       "convert (generic function with 202 methods)"
      ]
     },
     "execution_count": 3,
     "metadata": {},
     "output_type": "execute_result"
    }
   ],
   "source": [
    "import Base: convert  # again, we add our own methods to `convert`\n",
    "\n",
    "convert(::Type{Kelvin},  t::Celsius)     = Kelvin(t.value + 273.15)\n",
    "convert(::Type{Kelvin},  t::Fahrenheit)  = Kelvin(Celsius(t))\n",
    "convert(::Type{Celsius}, t::Kelvin)      = Celsius(t.value - 273.15)\n",
    "convert(::Type{Celsius}, t::Fahrenheit)  = Celsius((t.value - 32)*5/9)\n",
    "convert(::Type{Fahrenheit}, t::Celsius)  = Fahrenheit(t.value*9/5 + 32)\n",
    "convert(::Type{Fahrenheit}, t::Kelvin)   = Fahrenheit(Celsius(t))"
   ]
  },
  {
   "cell_type": "markdown",
   "metadata": {
    "slideshow": {
     "slide_type": "subslide"
    }
   },
   "source": [
    "We can add some nice constructors, so we can initialise each "
   ]
  },
  {
   "cell_type": "code",
   "execution_count": 4,
   "metadata": {
    "slideshow": {
     "slide_type": "fragment"
    }
   },
   "outputs": [
    {
     "data": {
      "text/plain": [
       "Fahrenheit"
      ]
     },
     "execution_count": 4,
     "metadata": {},
     "output_type": "execute_result"
    }
   ],
   "source": [
    "Kelvin(t::Temperature) = convert(Kelvin, t)\n",
    "Celsius(t::Temperature) = convert(Celsius, t)\n",
    "Fahrenheit(t::Temperature) = convert(Fahrenheit, t)"
   ]
  },
  {
   "cell_type": "code",
   "execution_count": 5,
   "metadata": {
    "slideshow": {
     "slide_type": "fragment"
    }
   },
   "outputs": [
    {
     "data": {
      "text/plain": [
       "Kelvin(268.15)"
      ]
     },
     "execution_count": 5,
     "metadata": {},
     "output_type": "execute_result"
    }
   ],
   "source": [
    "Kelvin(Fahrenheit(23))"
   ]
  },
  {
   "cell_type": "code",
   "execution_count": 6,
   "metadata": {},
   "outputs": [
    {
     "ename": "LoadError",
     "evalue": "MethodError: no method matching +(::Fahrenheit, ::Celsius)\n\u001b[0mClosest candidates are:\n\u001b[0m  +(::Any, ::Any, \u001b[91m::Any\u001b[39m, \u001b[91m::Any...\u001b[39m) at /Applications/Julia-1.7.app/Contents/Resources/julia/share/julia/base/operators.jl:655",
     "output_type": "error",
     "traceback": [
      "MethodError: no method matching +(::Fahrenheit, ::Celsius)\n\u001b[0mClosest candidates are:\n\u001b[0m  +(::Any, ::Any, \u001b[91m::Any\u001b[39m, \u001b[91m::Any...\u001b[39m) at /Applications/Julia-1.7.app/Contents/Resources/julia/share/julia/base/operators.jl:655",
      "",
      "Stacktrace:",
      " [1] +(::Fahrenheit, ::Celsius, ::Kelvin)",
      "   @ Base ./operators.jl:655",
      " [2] top-level scope",
      "   @ In[6]:1",
      " [3] eval",
      "   @ ./boot.jl:373 [inlined]",
      " [4] include_string(mapexpr::typeof(REPL.softscope), mod::Module, code::String, filename::String)",
      "   @ Base ./loading.jl:1196"
     ]
    }
   ],
   "source": [
    "Fahrenheit(3) + Celsius(4) + Kelvin(4)"
   ]
  },
  {
   "cell_type": "markdown",
   "metadata": {
    "slideshow": {
     "slide_type": "subslide"
    }
   },
   "source": [
    "Adding arithmetic operations for our types by extending the `Base` operators."
   ]
  },
  {
   "cell_type": "code",
   "execution_count": 7,
   "metadata": {
    "slideshow": {
     "slide_type": "fragment"
    }
   },
   "outputs": [],
   "source": [
    "import Base: +, -, *  # operators are functions, we can extend them easily!\n",
    "\n",
    "+(x::Temperature, y::Temperature) = +(promote(x,y)...)\n",
    "-(x::Temperature, y::Temperature) = -(promote(x,y)...)\n",
    "\n",
    "+(x::T, y::T) where {T <: Temperature} = T(x.value + y.value)\n",
    "-(x::T, y::T) where {T <: Temperature} = T(x.value - y.value)\n",
    "\n",
    "*(x::Number, y::T) where {T <: Temperature} = T(x * y.value);"
   ]
  },
  {
   "cell_type": "markdown",
   "metadata": {
    "slideshow": {
     "slide_type": "subslide"
    }
   },
   "source": [
    "### Let's test it:"
   ]
  },
  {
   "cell_type": "code",
   "execution_count": 8,
   "metadata": {
    "slideshow": {
     "slide_type": "fragment"
    }
   },
   "outputs": [
    {
     "data": {
      "text/plain": [
       "Kelvin(320.15)"
      ]
     },
     "execution_count": 8,
     "metadata": {},
     "output_type": "execute_result"
    }
   ],
   "source": [
    "Celsius(37) + Kelvin(10)"
   ]
  },
  {
   "cell_type": "code",
   "execution_count": 9,
   "metadata": {
    "slideshow": {
     "slide_type": "fragment"
    }
   },
   "outputs": [
    {
     "data": {
      "text/plain": [
       "Celsius(47.0)"
      ]
     },
     "execution_count": 9,
     "metadata": {},
     "output_type": "execute_result"
    }
   ],
   "source": [
    "Celsius(Celsius(37) + Kelvin(10))"
   ]
  },
  {
   "cell_type": "code",
   "execution_count": 10,
   "metadata": {
    "slideshow": {
     "slide_type": "fragment"
    }
   },
   "outputs": [
    {
     "data": {
      "text/plain": [
       "Kelvin(265.0388888888889)"
      ]
     },
     "execution_count": 10,
     "metadata": {},
     "output_type": "execute_result"
    }
   ],
   "source": [
    "Fahrenheit(3) + Celsius(4) + Kelvin(4)"
   ]
  },
  {
   "cell_type": "markdown",
   "metadata": {
    "slideshow": {
     "slide_type": "subslide"
    }
   },
   "source": [
    "### A nice way to create some syntactic sugar:"
   ]
  },
  {
   "cell_type": "code",
   "execution_count": 11,
   "metadata": {
    "slideshow": {
     "slide_type": "fragment"
    }
   },
   "outputs": [],
   "source": [
    "const °C = Celsius(1)\n",
    "const °F = Fahrenheit(1)\n",
    "const K = Kelvin(1);\n"
   ]
  },
  {
   "cell_type": "code",
   "execution_count": 12,
   "metadata": {
    "slideshow": {
     "slide_type": "fragment"
    }
   },
   "outputs": [
    {
     "data": {
      "text/plain": [
       "(Fahrenheit(5.0), Kelvin(23.0), Celsius(42.0))"
      ]
     },
     "execution_count": 12,
     "metadata": {},
     "output_type": "execute_result"
    }
   ],
   "source": [
    "5°F, 23K, 42°C"
   ]
  },
  {
   "cell_type": "code",
   "execution_count": 13,
   "metadata": {
    "slideshow": {
     "slide_type": "fragment"
    }
   },
   "outputs": [
    {
     "data": {
      "text/plain": [
       "Kelvin(325.15)"
      ]
     },
     "execution_count": 13,
     "metadata": {},
     "output_type": "execute_result"
    }
   ],
   "source": [
    "42°C + 10K"
   ]
  },
  {
   "cell_type": "markdown",
   "metadata": {
    "slideshow": {
     "slide_type": "slide"
    }
   },
   "source": [
    "### Alright, let's have a look behind the scenes..."
   ]
  },
  {
   "cell_type": "code",
   "execution_count": 14,
   "metadata": {
    "slideshow": {
     "slide_type": "subslide"
    }
   },
   "outputs": [
    {
     "data": {
      "text/plain": [
       "example_calculation (generic function with 1 method)"
      ]
     },
     "execution_count": 14,
     "metadata": {},
     "output_type": "execute_result"
    }
   ],
   "source": [
    "example_calculation() = Fahrenheit(2) + Celsius(3) + Kelvin(4)"
   ]
  },
  {
   "cell_type": "code",
   "execution_count": 15,
   "metadata": {
    "slideshow": {
     "slide_type": "fragment"
    }
   },
   "outputs": [
    {
     "name": "stdout",
     "output_type": "stream",
     "text": [
      "\u001b[90m;  @ In[14]:1 within `example_calculation`\u001b[39m\n",
      "\u001b[95mdefine\u001b[39m \u001b[33m[\u001b[39m\u001b[33m1\u001b[39m \u001b[0mx \u001b[36mdouble\u001b[39m\u001b[33m]\u001b[39m \u001b[93m@julia_example_calculation_1759\u001b[39m\u001b[33m(\u001b[39m\u001b[33m)\u001b[39m \u001b[0m#0 \u001b[33m{\u001b[39m\n",
      "\u001b[91mtop:\u001b[39m\n",
      "  \u001b[96m\u001b[1mret\u001b[22m\u001b[39m \u001b[33m[\u001b[39m\u001b[33m1\u001b[39m \u001b[0mx \u001b[36mdouble\u001b[39m\u001b[33m]\u001b[39m \u001b[33m[\u001b[39m\u001b[36mdouble\u001b[39m \u001b[33m0x407077BBBBBBBBBB\u001b[39m\u001b[33m]\u001b[39m\n",
      "\u001b[33m}\u001b[39m\n"
     ]
    }
   ],
   "source": [
    "@code_llvm example_calculation()"
   ]
  },
  {
   "cell_type": "markdown",
   "metadata": {
    "slideshow": {
     "slide_type": "fragment"
    }
   },
   "source": [
    "#### LLVM figured out that the function returns always the same value... Dooh ;)"
   ]
  },
  {
   "cell_type": "markdown",
   "metadata": {
    "slideshow": {
     "slide_type": "subslide"
    }
   },
   "source": [
    "### This is the \"machine code\":"
   ]
  },
  {
   "cell_type": "code",
   "execution_count": 16,
   "metadata": {
    "slideshow": {
     "slide_type": "fragment"
    }
   },
   "outputs": [
    {
     "name": "stdout",
     "output_type": "stream",
     "text": [
      "\t\u001b[0m.section\t\u001b[0m__TEXT\u001b[0m,\u001b[0m__text\u001b[0m,\u001b[0mregular\u001b[0m,\u001b[0mpure_instructions\n",
      "\u001b[90m; ┌ @ In[14]:1 within `example_calculation`\u001b[39m\n",
      "\t\u001b[96m\u001b[1mmov\u001b[22m\u001b[39m\t\u001b[0mx8\u001b[0m, \u001b[33m#-4919131752989213765\u001b[39m\n",
      "\t\u001b[96m\u001b[1mmovk\u001b[22m\u001b[39m\t\u001b[0mx8\u001b[0m, \u001b[33m#30651\u001b[39m\u001b[0m, \u001b[95mlsl\u001b[39m \u001b[33m#32\u001b[39m\n",
      "\t\u001b[96m\u001b[1mmovk\u001b[22m\u001b[39m\t\u001b[0mx8\u001b[0m, \u001b[33m#16496\u001b[39m\u001b[0m, \u001b[95mlsl\u001b[39m \u001b[33m#48\u001b[39m\n",
      "\t\u001b[96m\u001b[1mfmov\u001b[22m\u001b[39m\t\u001b[0md0\u001b[0m, \u001b[0mx8\n",
      "\t\u001b[96m\u001b[1mret\u001b[22m\u001b[39m\n",
      "\u001b[90m; └\u001b[39m\n"
     ]
    }
   ],
   "source": [
    "@code_native example_calculation()"
   ]
  },
  {
   "cell_type": "markdown",
   "metadata": {
    "slideshow": {
     "slide_type": "subslide"
    }
   },
   "source": [
    "### Now a function which is not constant ;)"
   ]
  },
  {
   "cell_type": "code",
   "execution_count": 17,
   "metadata": {
    "slideshow": {
     "slide_type": "fragment"
    }
   },
   "outputs": [
    {
     "data": {
      "text/plain": [
       "another_calculation (generic function with 1 method)"
      ]
     },
     "execution_count": 17,
     "metadata": {},
     "output_type": "execute_result"
    }
   ],
   "source": [
    "another_calculation(a, b, c) = Fahrenheit(a) + Celsius(b) + Kelvin(c)"
   ]
  },
  {
   "cell_type": "code",
   "execution_count": 24,
   "metadata": {
    "slideshow": {
     "slide_type": "fragment"
    }
   },
   "outputs": [
    {
     "name": "stdout",
     "output_type": "stream",
     "text": [
      "\u001b[95mdefine\u001b[39m \u001b[33m[\u001b[39m\u001b[33m1\u001b[39m \u001b[0mx \u001b[36mdouble\u001b[39m\u001b[33m]\u001b[39m \u001b[93m@julia_another_calculation_2047\u001b[39m\u001b[33m(\u001b[39m\u001b[36mi64\u001b[39m \u001b[95msignext\u001b[39m \u001b[0m%0\u001b[0m, \u001b[36mi64\u001b[39m \u001b[95msignext\u001b[39m \u001b[0m%1\u001b[0m, \u001b[36mi64\u001b[39m \u001b[95msignext\u001b[39m \u001b[0m%2\u001b[33m)\u001b[39m \u001b[0m#0 \u001b[33m{\u001b[39m\n",
      "\u001b[91mtop:\u001b[39m\n",
      "  \u001b[0m%3 \u001b[0m= \u001b[96m\u001b[1msitofp\u001b[22m\u001b[39m \u001b[36mi64\u001b[39m \u001b[0m%0 \u001b[95mto\u001b[39m \u001b[36mdouble\u001b[39m\n",
      "  \u001b[0m%4 \u001b[0m= \u001b[96m\u001b[1msitofp\u001b[22m\u001b[39m \u001b[36mi64\u001b[39m \u001b[0m%1 \u001b[95mto\u001b[39m \u001b[36mdouble\u001b[39m\n",
      "  \u001b[0m%5 \u001b[0m= \u001b[96m\u001b[1msitofp\u001b[22m\u001b[39m \u001b[36mi64\u001b[39m \u001b[0m%2 \u001b[95mto\u001b[39m \u001b[36mdouble\u001b[39m\n",
      "  \u001b[0m%6 \u001b[0m= \u001b[96m\u001b[1mfadd\u001b[22m\u001b[39m \u001b[36mdouble\u001b[39m \u001b[0m%3\u001b[0m, \u001b[33m-3.200000e+01\u001b[39m\n",
      "  \u001b[0m%7 \u001b[0m= \u001b[96m\u001b[1mfmul\u001b[22m\u001b[39m \u001b[36mdouble\u001b[39m \u001b[0m%6\u001b[0m, \u001b[33m5.000000e+00\u001b[39m\n",
      "  \u001b[0m%8 \u001b[0m= \u001b[96m\u001b[1mfdiv\u001b[22m\u001b[39m \u001b[36mdouble\u001b[39m \u001b[0m%7\u001b[0m, \u001b[33m9.000000e+00\u001b[39m\n",
      "  \u001b[0m%9 \u001b[0m= \u001b[96m\u001b[1mfadd\u001b[22m\u001b[39m \u001b[36mdouble\u001b[39m \u001b[0m%8\u001b[0m, \u001b[0m%4\n",
      "  \u001b[0m%10 \u001b[0m= \u001b[96m\u001b[1mfadd\u001b[22m\u001b[39m \u001b[36mdouble\u001b[39m \u001b[0m%9\u001b[0m, \u001b[33m2.731500e+02\u001b[39m\n",
      "  \u001b[0m%11 \u001b[0m= \u001b[96m\u001b[1mfadd\u001b[22m\u001b[39m \u001b[36mdouble\u001b[39m \u001b[0m%10\u001b[0m, \u001b[0m%5\n",
      "  \u001b[0m%.fca.0.insert \u001b[0m= \u001b[96m\u001b[1minsertvalue\u001b[22m\u001b[39m \u001b[33m[\u001b[39m\u001b[33m1\u001b[39m \u001b[0mx \u001b[36mdouble\u001b[39m\u001b[33m]\u001b[39m \u001b[95mzeroinitializer\u001b[39m\u001b[0m, \u001b[36mdouble\u001b[39m \u001b[0m%11\u001b[0m, \u001b[33m0\u001b[39m\n",
      "  \u001b[96m\u001b[1mret\u001b[22m\u001b[39m \u001b[33m[\u001b[39m\u001b[33m1\u001b[39m \u001b[0mx \u001b[36mdouble\u001b[39m\u001b[33m]\u001b[39m \u001b[0m%.fca.0.insert\n",
      "\u001b[33m}\u001b[39m\n"
     ]
    }
   ],
   "source": [
    "@code_llvm debuginfo=:none another_calculation(1, 2, 3)"
   ]
  },
  {
   "cell_type": "markdown",
   "metadata": {
    "slideshow": {
     "slide_type": "subslide"
    }
   },
   "source": [
    "### And the machine code:"
   ]
  },
  {
   "cell_type": "code",
   "execution_count": 26,
   "metadata": {
    "slideshow": {
     "slide_type": "fragment"
    }
   },
   "outputs": [
    {
     "name": "stdout",
     "output_type": "stream",
     "text": [
      "\t\u001b[0m.section\t\u001b[0m__TEXT\u001b[0m,\u001b[0m__text\u001b[0m,\u001b[0mregular\u001b[0m,\u001b[0mpure_instructions\n",
      "\t\u001b[96m\u001b[1mmov\u001b[22m\u001b[39m\t\u001b[0mx8\u001b[0m, \u001b[33m#-4593671619917905920\u001b[39m\n",
      "\t\u001b[96m\u001b[1mfmov\u001b[22m\u001b[39m\t\u001b[0md3\u001b[0m, \u001b[0mx8\n",
      "\t\u001b[96m\u001b[1mfadd\u001b[22m\u001b[39m\t\u001b[0md0\u001b[0m, \u001b[0md0\u001b[0m, \u001b[0md3\n",
      "\t\u001b[96m\u001b[1mfmov\u001b[22m\u001b[39m\t\u001b[0md3\u001b[0m, \u001b[33m#5.00000000\u001b[39m\n",
      "\t\u001b[96m\u001b[1mfmul\u001b[22m\u001b[39m\t\u001b[0md0\u001b[0m, \u001b[0md0\u001b[0m, \u001b[0md3\n",
      "\t\u001b[96m\u001b[1mfmov\u001b[22m\u001b[39m\t\u001b[0md3\u001b[0m, \u001b[33m#9.00000000\u001b[39m\n",
      "\t\u001b[96m\u001b[1mfdiv\u001b[22m\u001b[39m\t\u001b[0md0\u001b[0m, \u001b[0md0\u001b[0m, \u001b[0md3\n",
      "\t\u001b[96m\u001b[1mfadd\u001b[22m\u001b[39m\t\u001b[0md0\u001b[0m, \u001b[0md0\u001b[0m, \u001b[0md1\n",
      "\t\u001b[96m\u001b[1mmov\u001b[22m\u001b[39m\t\u001b[0mx8\u001b[0m, \u001b[33m#7378697629483820646\u001b[39m\n",
      "\t\u001b[96m\u001b[1mmovk\u001b[22m\u001b[39m\t\u001b[0mx8\u001b[0m, \u001b[33m#4710\u001b[39m\u001b[0m, \u001b[95mlsl\u001b[39m \u001b[33m#32\u001b[39m\n",
      "\t\u001b[96m\u001b[1mmovk\u001b[22m\u001b[39m\t\u001b[0mx8\u001b[0m, \u001b[33m#16497\u001b[39m\u001b[0m, \u001b[95mlsl\u001b[39m \u001b[33m#48\u001b[39m\n",
      "\t\u001b[96m\u001b[1mfmov\u001b[22m\u001b[39m\t\u001b[0md1\u001b[0m, \u001b[0mx8\n",
      "\t\u001b[96m\u001b[1mfadd\u001b[22m\u001b[39m\t\u001b[0md0\u001b[0m, \u001b[0md0\u001b[0m, \u001b[0md1\n",
      "\t\u001b[96m\u001b[1mfadd\u001b[22m\u001b[39m\t\u001b[0md0\u001b[0m, \u001b[0md0\u001b[0m, \u001b[0md2\n",
      "\t\u001b[96m\u001b[1mret\u001b[22m\u001b[39m\n"
     ]
    }
   ],
   "source": [
    "@code_native debuginfo=:none another_calculation(2.0, 3.0, 4.0)"
   ]
  },
  {
   "cell_type": "markdown",
   "metadata": {
    "slideshow": {
     "slide_type": "slide"
    }
   },
   "source": [
    "## What about the actual performance?"
   ]
  },
  {
   "cell_type": "code",
   "execution_count": 28,
   "metadata": {
    "slideshow": {
     "slide_type": "fragment"
    }
   },
   "outputs": [],
   "source": [
    "using BenchmarkTools"
   ]
  },
  {
   "cell_type": "code",
   "execution_count": 30,
   "metadata": {
    "slideshow": {
     "slide_type": "fragment"
    }
   },
   "outputs": [
    {
     "data": {
      "text/plain": [
       "BenchmarkTools.Trial: 10000 samples with 985 evaluations.\n",
       " Range \u001b[90m(\u001b[39m\u001b[36m\u001b[1mmin\u001b[22m\u001b[39m … \u001b[35mmax\u001b[39m\u001b[90m):  \u001b[39m\u001b[36m\u001b[1m54.949 ns\u001b[22m\u001b[39m … \u001b[35m840.398 ns\u001b[39m  \u001b[90m┊\u001b[39m GC \u001b[90m(\u001b[39mmin … max\u001b[90m): \u001b[39m0.00% … 93.07%\n",
       " Time  \u001b[90m(\u001b[39m\u001b[34m\u001b[1mmedian\u001b[22m\u001b[39m\u001b[90m):     \u001b[39m\u001b[34m\u001b[1m56.049 ns               \u001b[22m\u001b[39m\u001b[90m┊\u001b[39m GC \u001b[90m(\u001b[39mmedian\u001b[90m):    \u001b[39m0.00%\n",
       " Time  \u001b[90m(\u001b[39m\u001b[32m\u001b[1mmean\u001b[22m\u001b[39m ± \u001b[32mσ\u001b[39m\u001b[90m):   \u001b[39m\u001b[32m\u001b[1m56.926 ns\u001b[22m\u001b[39m ± \u001b[32m 27.318 ns\u001b[39m  \u001b[90m┊\u001b[39m GC \u001b[90m(\u001b[39mmean ± σ\u001b[90m):  \u001b[39m1.73% ±  3.35%\n",
       "\n",
       "  \u001b[39m▅\u001b[39m█\u001b[39m▇\u001b[39m▇\u001b[39m▅\u001b[39m▅\u001b[39m▃\u001b[39m▁\u001b[39m▁\u001b[39m \u001b[39m▂\u001b[39m▁\u001b[39m▃\u001b[39m▃\u001b[39m \u001b[39m▂\u001b[34m▅\u001b[39m\u001b[39m█\u001b[39m█\u001b[39m▅\u001b[39m▅\u001b[39m▃\u001b[39m▃\u001b[39m▂\u001b[39m \u001b[39m \u001b[39m \u001b[39m▁\u001b[39m \u001b[39m▂\u001b[32m▂\u001b[39m\u001b[39m \u001b[39m \u001b[39m \u001b[39m \u001b[39m \u001b[39m \u001b[39m \u001b[39m \u001b[39m \u001b[39m \u001b[39m \u001b[39m \u001b[39m \u001b[39m \u001b[39m \u001b[39m \u001b[39m \u001b[39m▁\u001b[39m▂\u001b[39m▁\u001b[39m▂\u001b[39m \u001b[39m▁\u001b[39m▁\u001b[39m \u001b[39m \u001b[39m \u001b[39m \u001b[39m \u001b[39m \u001b[39m▂\n",
       "  \u001b[39m█\u001b[39m█\u001b[39m█\u001b[39m█\u001b[39m█\u001b[39m█\u001b[39m█\u001b[39m█\u001b[39m█\u001b[39m▇\u001b[39m█\u001b[39m█\u001b[39m█\u001b[39m█\u001b[39m▇\u001b[39m█\u001b[34m█\u001b[39m\u001b[39m█\u001b[39m█\u001b[39m█\u001b[39m█\u001b[39m█\u001b[39m█\u001b[39m█\u001b[39m█\u001b[39m█\u001b[39m█\u001b[39m█\u001b[39m█\u001b[39m█\u001b[32m█\u001b[39m\u001b[39m█\u001b[39m█\u001b[39m▆\u001b[39m█\u001b[39m▆\u001b[39m█\u001b[39m█\u001b[39m▇\u001b[39m▇\u001b[39m▇\u001b[39m▆\u001b[39m▆\u001b[39m▇\u001b[39m▇\u001b[39m▅\u001b[39m█\u001b[39m█\u001b[39m█\u001b[39m█\u001b[39m█\u001b[39m█\u001b[39m█\u001b[39m█\u001b[39m█\u001b[39m█\u001b[39m█\u001b[39m▇\u001b[39m█\u001b[39m▄\u001b[39m \u001b[39m█\n",
       "  54.9 ns\u001b[90m       \u001b[39m\u001b[90mHistogram: \u001b[39m\u001b[90m\u001b[1mlog(\u001b[22m\u001b[39m\u001b[90mfrequency\u001b[39m\u001b[90m\u001b[1m)\u001b[22m\u001b[39m\u001b[90m by time\u001b[39m        59 ns \u001b[0m\u001b[1m<\u001b[22m\n",
       "\n",
       " Memory estimate\u001b[90m: \u001b[39m\u001b[33m64 bytes\u001b[39m, allocs estimate\u001b[90m: \u001b[39m\u001b[33m4\u001b[39m."
      ]
     },
     "execution_count": 30,
     "metadata": {},
     "output_type": "execute_result"
    }
   ],
   "source": [
    "@benchmark another_calculation(temperatures...) setup=(temperatures=rand(3))"
   ]
  },
  {
   "cell_type": "markdown",
   "metadata": {
    "slideshow": {
     "slide_type": "subslide"
    }
   },
   "source": [
    "### The power of multiple dispatch\n",
    "\n",
    "We can easily define our own `rand` method for `Kelvin` temperatures ()"
   ]
  },
  {
   "cell_type": "code",
   "execution_count": 31,
   "metadata": {
    "slideshow": {
     "slide_type": "fragment"
    }
   },
   "outputs": [],
   "source": [
    "using Random\n",
    "Random.rand(rng::AbstractRNG, ::Random.SamplerType{Kelvin}) =  Kelvin(rand() * 5000)"
   ]
  },
  {
   "cell_type": "code",
   "execution_count": 32,
   "metadata": {
    "slideshow": {
     "slide_type": "fragment"
    }
   },
   "outputs": [
    {
     "data": {
      "text/plain": [
       "Kelvin(2122.5149017918416)"
      ]
     },
     "execution_count": 32,
     "metadata": {},
     "output_type": "execute_result"
    }
   ],
   "source": [
    "rand(Kelvin)"
   ]
  },
  {
   "cell_type": "code",
   "execution_count": 33,
   "metadata": {
    "slideshow": {
     "slide_type": "fragment"
    }
   },
   "outputs": [
    {
     "data": {
      "text/plain": [
       "1000000-element Vector{Kelvin}:\n",
       " Kelvin(309.9522638246643)\n",
       " Kelvin(2239.3143507263367)\n",
       " Kelvin(4809.8505448873)\n",
       " Kelvin(4517.649046332409)\n",
       " Kelvin(2666.4756334193344)\n",
       " Kelvin(3699.234192861852)\n",
       " Kelvin(2106.5130732706557)\n",
       " Kelvin(3134.717316507572)\n",
       " Kelvin(4690.364425816824)\n",
       " Kelvin(2344.6427028808885)\n",
       " Kelvin(4508.480597356379)\n",
       " Kelvin(1706.5356245813434)\n",
       " Kelvin(4913.625178622309)\n",
       " ⋮\n",
       " Kelvin(4321.473912553685)\n",
       " Kelvin(1689.3772594519762)\n",
       " Kelvin(3034.348738916759)\n",
       " Kelvin(120.81726465502595)\n",
       " Kelvin(2673.3944327410236)\n",
       " Kelvin(1434.1698134085202)\n",
       " Kelvin(1948.3863151882886)\n",
       " Kelvin(194.9704616571818)\n",
       " Kelvin(3792.944877030177)\n",
       " Kelvin(685.8860842196545)\n",
       " Kelvin(2184.0380274481217)\n",
       " Kelvin(4561.10453542271)"
      ]
     },
     "execution_count": 33,
     "metadata": {},
     "output_type": "execute_result"
    }
   ],
   "source": [
    "temperatures = rand(Kelvin, 1_000_000)"
   ]
  },
  {
   "cell_type": "markdown",
   "metadata": {
    "slideshow": {
     "slide_type": "subslide"
    }
   },
   "source": [
    "### Is this fast?"
   ]
  },
  {
   "cell_type": "code",
   "execution_count": 34,
   "metadata": {
    "slideshow": {
     "slide_type": "fragment"
    }
   },
   "outputs": [
    {
     "data": {
      "text/plain": [
       "BenchmarkTools.Trial: 2879 samples with 1 evaluation.\n",
       " Range \u001b[90m(\u001b[39m\u001b[36m\u001b[1mmin\u001b[22m\u001b[39m … \u001b[35mmax\u001b[39m\u001b[90m):  \u001b[39m\u001b[36m\u001b[1m1.090 ms\u001b[22m\u001b[39m … \u001b[35m 23.342 ms\u001b[39m  \u001b[90m┊\u001b[39m GC \u001b[90m(\u001b[39mmin … max\u001b[90m): \u001b[39m 0.00% … 92.95%\n",
       " Time  \u001b[90m(\u001b[39m\u001b[34m\u001b[1mmedian\u001b[22m\u001b[39m\u001b[90m):     \u001b[39m\u001b[34m\u001b[1m1.525 ms               \u001b[22m\u001b[39m\u001b[90m┊\u001b[39m GC \u001b[90m(\u001b[39mmedian\u001b[90m):    \u001b[39m 0.00%\n",
       " Time  \u001b[90m(\u001b[39m\u001b[32m\u001b[1mmean\u001b[22m\u001b[39m ± \u001b[32mσ\u001b[39m\u001b[90m):   \u001b[39m\u001b[32m\u001b[1m1.735 ms\u001b[22m\u001b[39m ± \u001b[32m606.374 μs\u001b[39m  \u001b[90m┊\u001b[39m GC \u001b[90m(\u001b[39mmean ± σ\u001b[90m):  \u001b[39m11.68% ± 16.22%\n",
       "\n",
       "  \u001b[39m \u001b[39m \u001b[39m \u001b[39m \u001b[39m \u001b[39m \u001b[39m \u001b[39m \u001b[39m \u001b[39m \u001b[39m \u001b[39m▆\u001b[39m█\u001b[34m▇\u001b[39m\u001b[39m▅\u001b[39m▃\u001b[39m▂\u001b[39m \u001b[39m \u001b[32m \u001b[39m\u001b[39m▁\u001b[39m \u001b[39m \u001b[39m \u001b[39m \u001b[39m \u001b[39m \u001b[39m \u001b[39m \u001b[39m \u001b[39m \u001b[39m \u001b[39m \u001b[39m \u001b[39m \u001b[39m \u001b[39m \u001b[39m \u001b[39m \u001b[39m \u001b[39m \u001b[39m▁\u001b[39m▁\u001b[39m▁\u001b[39m▁\u001b[39m▁\u001b[39m \u001b[39m \u001b[39m▁\u001b[39m▁\u001b[39m▁\u001b[39m▁\u001b[39m▁\u001b[39m \u001b[39m \u001b[39m \u001b[39m \u001b[39m \u001b[39m \u001b[39m \u001b[39m▁\n",
       "  \u001b[39m█\u001b[39m▃\u001b[39m▁\u001b[39m▁\u001b[39m▁\u001b[39m▁\u001b[39m▁\u001b[39m▁\u001b[39m▁\u001b[39m▃\u001b[39m█\u001b[39m█\u001b[39m█\u001b[34m█\u001b[39m\u001b[39m█\u001b[39m█\u001b[39m█\u001b[39m█\u001b[39m▇\u001b[32m█\u001b[39m\u001b[39m█\u001b[39m▇\u001b[39m▇\u001b[39m▆\u001b[39m▃\u001b[39m▅\u001b[39m▃\u001b[39m▃\u001b[39m▅\u001b[39m▄\u001b[39m▄\u001b[39m▃\u001b[39m▁\u001b[39m▄\u001b[39m▃\u001b[39m▁\u001b[39m▄\u001b[39m▆\u001b[39m▇\u001b[39m█\u001b[39m█\u001b[39m█\u001b[39m█\u001b[39m█\u001b[39m█\u001b[39m█\u001b[39m█\u001b[39m█\u001b[39m█\u001b[39m█\u001b[39m█\u001b[39m█\u001b[39m█\u001b[39m█\u001b[39m▇\u001b[39m█\u001b[39m▇\u001b[39m▅\u001b[39m▆\u001b[39m \u001b[39m█\n",
       "  1.09 ms\u001b[90m      \u001b[39m\u001b[90mHistogram: \u001b[39m\u001b[90m\u001b[1mlog(\u001b[22m\u001b[39m\u001b[90mfrequency\u001b[39m\u001b[90m\u001b[1m)\u001b[22m\u001b[39m\u001b[90m by time\u001b[39m      3.05 ms \u001b[0m\u001b[1m<\u001b[22m\n",
       "\n",
       " Memory estimate\u001b[90m: \u001b[39m\u001b[33m7.63 MiB\u001b[39m, allocs estimate\u001b[90m: \u001b[39m\u001b[33m2\u001b[39m."
      ]
     },
     "execution_count": 34,
     "metadata": {},
     "output_type": "execute_result"
    }
   ],
   "source": [
    "@benchmark rand(Kelvin, 1_000_000)"
   ]
  },
  {
   "cell_type": "code",
   "execution_count": 35,
   "metadata": {
    "slideshow": {
     "slide_type": "fragment"
    }
   },
   "outputs": [
    {
     "data": {
      "text/plain": [
       "BenchmarkTools.Trial: 4407 samples with 1 evaluation.\n",
       " Range \u001b[90m(\u001b[39m\u001b[36m\u001b[1mmin\u001b[22m\u001b[39m … \u001b[35mmax\u001b[39m\u001b[90m):  \u001b[39m\u001b[36m\u001b[1m666.708 μs\u001b[22m\u001b[39m … \u001b[35m  3.097 ms\u001b[39m  \u001b[90m┊\u001b[39m GC \u001b[90m(\u001b[39mmin … max\u001b[90m): \u001b[39m 0.00% … 54.47%\n",
       " Time  \u001b[90m(\u001b[39m\u001b[34m\u001b[1mmedian\u001b[22m\u001b[39m\u001b[90m):     \u001b[39m\u001b[34m\u001b[1m  1.002 ms               \u001b[22m\u001b[39m\u001b[90m┊\u001b[39m GC \u001b[90m(\u001b[39mmedian\u001b[90m):    \u001b[39m 0.00%\n",
       " Time  \u001b[90m(\u001b[39m\u001b[32m\u001b[1mmean\u001b[22m\u001b[39m ± \u001b[32mσ\u001b[39m\u001b[90m):   \u001b[39m\u001b[32m\u001b[1m  1.134 ms\u001b[22m\u001b[39m ± \u001b[32m304.320 μs\u001b[39m  \u001b[90m┊\u001b[39m GC \u001b[90m(\u001b[39mmean ± σ\u001b[90m):  \u001b[39m11.42% ± 16.23%\n",
       "\n",
       "  \u001b[39m \u001b[39m \u001b[39m \u001b[39m \u001b[39m \u001b[39m \u001b[39m \u001b[39m \u001b[39m \u001b[39m \u001b[39m \u001b[39m \u001b[39m▇\u001b[39m█\u001b[39m▇\u001b[34m▆\u001b[39m\u001b[39m▆\u001b[39m▅\u001b[39m▄\u001b[39m▄\u001b[39m▄\u001b[32m▂\u001b[39m\u001b[39m \u001b[39m \u001b[39m \u001b[39m \u001b[39m \u001b[39m \u001b[39m \u001b[39m \u001b[39m \u001b[39m \u001b[39m \u001b[39m \u001b[39m \u001b[39m \u001b[39m \u001b[39m \u001b[39m \u001b[39m \u001b[39m▁\u001b[39m▁\u001b[39m▁\u001b[39m \u001b[39m \u001b[39m▁\u001b[39m▂\u001b[39m▂\u001b[39m▂\u001b[39m▂\u001b[39m▂\u001b[39m▂\u001b[39m▁\u001b[39m▁\u001b[39m▁\u001b[39m \u001b[39m \u001b[39m \u001b[39m \u001b[39m \u001b[39m \u001b[39m \u001b[39m▂\n",
       "  \u001b[39m▇\u001b[39m▄\u001b[39m▁\u001b[39m▁\u001b[39m▁\u001b[39m▁\u001b[39m▁\u001b[39m▁\u001b[39m▁\u001b[39m▁\u001b[39m▁\u001b[39m▆\u001b[39m█\u001b[39m█\u001b[39m█\u001b[34m█\u001b[39m\u001b[39m█\u001b[39m█\u001b[39m█\u001b[39m█\u001b[39m█\u001b[32m█\u001b[39m\u001b[39m█\u001b[39m▇\u001b[39m▅\u001b[39m▇\u001b[39m▇\u001b[39m▅\u001b[39m▃\u001b[39m▃\u001b[39m▃\u001b[39m▁\u001b[39m▁\u001b[39m▁\u001b[39m▁\u001b[39m▃\u001b[39m▇\u001b[39m▇\u001b[39m▇\u001b[39m█\u001b[39m█\u001b[39m█\u001b[39m█\u001b[39m█\u001b[39m█\u001b[39m█\u001b[39m█\u001b[39m█\u001b[39m█\u001b[39m█\u001b[39m█\u001b[39m█\u001b[39m█\u001b[39m█\u001b[39m█\u001b[39m█\u001b[39m█\u001b[39m█\u001b[39m█\u001b[39m▆\u001b[39m▇\u001b[39m \u001b[39m█\n",
       "  667 μs\u001b[90m        \u001b[39m\u001b[90mHistogram: \u001b[39m\u001b[90m\u001b[1mlog(\u001b[22m\u001b[39m\u001b[90mfrequency\u001b[39m\u001b[90m\u001b[1m)\u001b[22m\u001b[39m\u001b[90m by time\u001b[39m       2.02 ms \u001b[0m\u001b[1m<\u001b[22m\n",
       "\n",
       " Memory estimate\u001b[90m: \u001b[39m\u001b[33m7.63 MiB\u001b[39m, allocs estimate\u001b[90m: \u001b[39m\u001b[33m2\u001b[39m."
      ]
     },
     "execution_count": 35,
     "metadata": {},
     "output_type": "execute_result"
    }
   ],
   "source": [
    "@benchmark rand(1_000_000)"
   ]
  },
  {
   "cell_type": "markdown",
   "metadata": {
    "slideshow": {
     "slide_type": "fragment"
    }
   },
   "source": [
    "### Yep... 2ms, 2 allocs, 8 MiB memory"
   ]
  },
  {
   "cell_type": "markdown",
   "metadata": {
    "slideshow": {
     "slide_type": "subslide"
    }
   },
   "source": [
    "### Convert them to `Celsius` by using our type constructor and the `.`-notation for element-wise operation (similar to Matlab or `ufuncs` in numpy)"
   ]
  },
  {
   "cell_type": "code",
   "execution_count": 36,
   "metadata": {
    "slideshow": {
     "slide_type": "fragment"
    }
   },
   "outputs": [
    {
     "data": {
      "text/plain": [
       "1000000-element Vector{Celsius}:\n",
       " Celsius(36.80226382466435)\n",
       " Celsius(1966.1643507263366)\n",
       " Celsius(4536.700544887301)\n",
       " Celsius(4244.499046332409)\n",
       " Celsius(2393.3256334193343)\n",
       " Celsius(3426.084192861852)\n",
       " Celsius(1833.3630732706556)\n",
       " Celsius(2861.567316507572)\n",
       " Celsius(4417.214425816825)\n",
       " Celsius(2071.4927028808884)\n",
       " Celsius(4235.330597356379)\n",
       " Celsius(1433.3856245813436)\n",
       " Celsius(4640.47517862231)\n",
       " ⋮\n",
       " Celsius(4048.323912553685)\n",
       " Celsius(1416.2272594519764)\n",
       " Celsius(2761.198738916759)\n",
       " Celsius(-152.33273534497403)\n",
       " Celsius(2400.2444327410235)\n",
       " Celsius(1161.0198134085203)\n",
       " Celsius(1675.2363151882887)\n",
       " Celsius(-78.17953834281818)\n",
       " Celsius(3519.794877030177)\n",
       " Celsius(412.7360842196546)\n",
       " Celsius(1910.8880274481216)\n",
       " Celsius(4287.95453542271)"
      ]
     },
     "execution_count": 36,
     "metadata": {},
     "output_type": "execute_result"
    }
   ],
   "source": [
    "Celsius.(temperatures)"
   ]
  },
  {
   "cell_type": "markdown",
   "metadata": {
    "slideshow": {
     "slide_type": "subslide"
    }
   },
   "source": [
    "### Is this fast?"
   ]
  },
  {
   "cell_type": "code",
   "execution_count": 37,
   "metadata": {
    "slideshow": {
     "slide_type": "fragment"
    }
   },
   "outputs": [
    {
     "data": {
      "text/plain": [
       "BenchmarkTools.Trial: 6331 samples with 1 evaluation.\n",
       " Range \u001b[90m(\u001b[39m\u001b[36m\u001b[1mmin\u001b[22m\u001b[39m … \u001b[35mmax\u001b[39m\u001b[90m):  \u001b[39m\u001b[36m\u001b[1m192.583 μs\u001b[22m\u001b[39m … \u001b[35m  2.719 ms\u001b[39m  \u001b[90m┊\u001b[39m GC \u001b[90m(\u001b[39mmin … max\u001b[90m): \u001b[39m 0.00% … 68.96%\n",
       " Time  \u001b[90m(\u001b[39m\u001b[34m\u001b[1mmedian\u001b[22m\u001b[39m\u001b[90m):     \u001b[39m\u001b[34m\u001b[1m609.333 μs               \u001b[22m\u001b[39m\u001b[90m┊\u001b[39m GC \u001b[90m(\u001b[39mmedian\u001b[90m):    \u001b[39m 0.00%\n",
       " Time  \u001b[90m(\u001b[39m\u001b[32m\u001b[1mmean\u001b[22m\u001b[39m ± \u001b[32mσ\u001b[39m\u001b[90m):   \u001b[39m\u001b[32m\u001b[1m787.350 μs\u001b[22m\u001b[39m ± \u001b[32m411.149 μs\u001b[39m  \u001b[90m┊\u001b[39m GC \u001b[90m(\u001b[39mmean ± σ\u001b[90m):  \u001b[39m23.06% ± 23.99%\n",
       "\n",
       "  \u001b[39m▁\u001b[39m \u001b[39m \u001b[39m \u001b[39m \u001b[39m \u001b[39m \u001b[39m \u001b[39m \u001b[39m \u001b[39m \u001b[39m \u001b[39m▃\u001b[39m█\u001b[34m█\u001b[39m\u001b[39m▆\u001b[39m▄\u001b[39m▁\u001b[39m \u001b[39m \u001b[39m \u001b[32m \u001b[39m\u001b[39m \u001b[39m \u001b[39m \u001b[39m \u001b[39m \u001b[39m \u001b[39m \u001b[39m \u001b[39m \u001b[39m \u001b[39m \u001b[39m \u001b[39m \u001b[39m \u001b[39m \u001b[39m \u001b[39m \u001b[39m \u001b[39m \u001b[39m \u001b[39m \u001b[39m▁\u001b[39m▂\u001b[39m▂\u001b[39m▁\u001b[39m \u001b[39m▁\u001b[39m▂\u001b[39m▁\u001b[39m \u001b[39m▁\u001b[39m▂\u001b[39m▂\u001b[39m▂\u001b[39m▂\u001b[39m▁\u001b[39m \u001b[39m \u001b[39m▁\u001b[39m \u001b[39m▂\n",
       "  \u001b[39m█\u001b[39m▁\u001b[39m▁\u001b[39m▁\u001b[39m▁\u001b[39m▁\u001b[39m▁\u001b[39m▁\u001b[39m▁\u001b[39m▁\u001b[39m▁\u001b[39m▁\u001b[39m█\u001b[39m█\u001b[34m█\u001b[39m\u001b[39m█\u001b[39m█\u001b[39m█\u001b[39m█\u001b[39m█\u001b[39m▇\u001b[32m▇\u001b[39m\u001b[39m▄\u001b[39m▁\u001b[39m▃\u001b[39m▄\u001b[39m▁\u001b[39m▁\u001b[39m▁\u001b[39m▁\u001b[39m▁\u001b[39m▁\u001b[39m▁\u001b[39m▁\u001b[39m▁\u001b[39m▁\u001b[39m▃\u001b[39m▁\u001b[39m▃\u001b[39m▅\u001b[39m▇\u001b[39m▇\u001b[39m█\u001b[39m█\u001b[39m█\u001b[39m█\u001b[39m█\u001b[39m█\u001b[39m█\u001b[39m█\u001b[39m█\u001b[39m█\u001b[39m█\u001b[39m█\u001b[39m█\u001b[39m█\u001b[39m█\u001b[39m█\u001b[39m█\u001b[39m█\u001b[39m█\u001b[39m \u001b[39m█\n",
       "  193 μs\u001b[90m        \u001b[39m\u001b[90mHistogram: \u001b[39m\u001b[90m\u001b[1mlog(\u001b[22m\u001b[39m\u001b[90mfrequency\u001b[39m\u001b[90m\u001b[1m)\u001b[22m\u001b[39m\u001b[90m by time\u001b[39m       1.95 ms \u001b[0m\u001b[1m<\u001b[22m\n",
       "\n",
       " Memory estimate\u001b[90m: \u001b[39m\u001b[33m7.63 MiB\u001b[39m, allocs estimate\u001b[90m: \u001b[39m\u001b[33m2\u001b[39m."
      ]
     },
     "execution_count": 37,
     "metadata": {},
     "output_type": "execute_result"
    }
   ],
   "source": [
    "@benchmark Celsius.($temperatures)"
   ]
  },
  {
   "cell_type": "markdown",
   "metadata": {
    "slideshow": {
     "slide_type": "fragment"
    }
   },
   "source": [
    "### Yep... 1.5ms, 2 allocs, 8 MiB memory"
   ]
  },
  {
   "cell_type": "markdown",
   "metadata": {
    "slideshow": {
     "slide_type": "subslide"
    }
   },
   "source": [
    "## And we magically get all the other methods of the `rand()` function:"
   ]
  },
  {
   "cell_type": "code",
   "execution_count": 38,
   "metadata": {
    "slideshow": {
     "slide_type": "fragment"
    }
   },
   "outputs": [
    {
     "data": {
      "text/plain": [
       "100×200×300 Array{Kelvin, 3}:\n",
       "[:, :, 1] =\n",
       " Kelvin(3102.21)  Kelvin(2440.81)  …  Kelvin(477.177)  Kelvin(69.445)\n",
       " Kelvin(3188.89)  Kelvin(731.13)      Kelvin(3844.25)  Kelvin(1781.22)\n",
       " Kelvin(2602.58)  Kelvin(3438.93)     Kelvin(3932.11)  Kelvin(4984.53)\n",
       " Kelvin(968.511)  Kelvin(1431.71)     Kelvin(2647.02)  Kelvin(4073.61)\n",
       " Kelvin(983.926)  Kelvin(1427.08)     Kelvin(1018.15)  Kelvin(2131.85)\n",
       " Kelvin(1197.94)  Kelvin(3253.41)  …  Kelvin(1959.28)  Kelvin(3938.65)\n",
       " Kelvin(1944.52)  Kelvin(1787.91)     Kelvin(1077.27)  Kelvin(3744.31)\n",
       " Kelvin(3478.48)  Kelvin(3904.12)     Kelvin(2419.2)   Kelvin(1078.34)\n",
       " Kelvin(2580.19)  Kelvin(1409.92)     Kelvin(2110.48)  Kelvin(4069.49)\n",
       " Kelvin(3999.33)  Kelvin(142.726)     Kelvin(433.969)  Kelvin(4466.24)\n",
       " Kelvin(4306.4)   Kelvin(1746.19)  …  Kelvin(1992.92)  Kelvin(2803.38)\n",
       " Kelvin(2795.91)  Kelvin(471.463)     Kelvin(3702.48)  Kelvin(639.113)\n",
       " Kelvin(4900.32)  Kelvin(3883.04)     Kelvin(916.808)  Kelvin(970.27)\n",
       " ⋮                                 ⋱                   \n",
       " Kelvin(762.347)  Kelvin(1551.01)     Kelvin(4780.56)  Kelvin(1916.08)\n",
       " Kelvin(4080.73)  Kelvin(923.417)     Kelvin(1451.62)  Kelvin(1821.51)\n",
       " Kelvin(1402.27)  Kelvin(2079.22)  …  Kelvin(3211.44)  Kelvin(2504.14)\n",
       " Kelvin(3609.51)  Kelvin(4901.4)      Kelvin(3201.88)  Kelvin(2202.82)\n",
       " Kelvin(1838.46)  Kelvin(2244.87)     Kelvin(1875.92)  Kelvin(4989.67)\n",
       " Kelvin(3102.26)  Kelvin(2219.82)     Kelvin(1578.98)  Kelvin(4289.52)\n",
       " Kelvin(4573.61)  Kelvin(3703.21)     Kelvin(470.646)  Kelvin(156.529)\n",
       " Kelvin(3175.59)  Kelvin(1995.28)  …  Kelvin(977.81)   Kelvin(587.562)\n",
       " Kelvin(2548.27)  Kelvin(1120.89)     Kelvin(3044.18)  Kelvin(4097.94)\n",
       " Kelvin(3542.72)  Kelvin(3117.41)     Kelvin(794.613)  Kelvin(3304.19)\n",
       " Kelvin(4539.9)   Kelvin(3837.75)     Kelvin(1106.04)  Kelvin(4857.81)\n",
       " Kelvin(3214.0)   Kelvin(4866.17)     Kelvin(4749.21)  Kelvin(321.82)\n",
       "\n",
       "[:, :, 2] =\n",
       " Kelvin(2357.97)  Kelvin(3728.04)  …  Kelvin(723.415)  Kelvin(3892.53)\n",
       " Kelvin(1464.76)  Kelvin(2307.84)     Kelvin(237.34)   Kelvin(1506.83)\n",
       " Kelvin(2060.78)  Kelvin(1909.18)     Kelvin(3288.96)  Kelvin(3500.71)\n",
       " Kelvin(1414.12)  Kelvin(3637.75)     Kelvin(1629.36)  Kelvin(4479.87)\n",
       " Kelvin(2449.06)  Kelvin(4627.73)     Kelvin(612.676)  Kelvin(711.264)\n",
       " Kelvin(279.2)    Kelvin(2177.32)  …  Kelvin(4200.6)   Kelvin(1797.68)\n",
       " Kelvin(3160.19)  Kelvin(4921.36)     Kelvin(960.077)  Kelvin(763.394)\n",
       " Kelvin(2903.71)  Kelvin(2352.84)     Kelvin(1303.41)  Kelvin(2977.82)\n",
       " Kelvin(3234.0)   Kelvin(78.3606)     Kelvin(4060.76)  Kelvin(3961.56)\n",
       " Kelvin(803.077)  Kelvin(3635.49)     Kelvin(623.705)  Kelvin(1877.84)\n",
       " Kelvin(1939.32)  Kelvin(4431.33)  …  Kelvin(4617.03)  Kelvin(2361.05)\n",
       " Kelvin(892.234)  Kelvin(2961.12)     Kelvin(3230.85)  Kelvin(4251.76)\n",
       " Kelvin(479.632)  Kelvin(961.602)     Kelvin(1456.08)  Kelvin(762.725)\n",
       " ⋮                                 ⋱                   \n",
       " Kelvin(3150.52)  Kelvin(3302.35)     Kelvin(3449.21)  Kelvin(1055.4)\n",
       " Kelvin(1513.86)  Kelvin(861.056)     Kelvin(513.387)  Kelvin(1563.0)\n",
       " Kelvin(46.1046)  Kelvin(1249.87)  …  Kelvin(2563.78)  Kelvin(2967.15)\n",
       " Kelvin(2946.11)  Kelvin(4805.54)     Kelvin(3650.24)  Kelvin(4612.98)\n",
       " Kelvin(953.25)   Kelvin(3820.1)      Kelvin(62.5883)  Kelvin(1632.67)\n",
       " Kelvin(3405.08)  Kelvin(1569.87)     Kelvin(2225.7)   Kelvin(837.064)\n",
       " Kelvin(418.626)  Kelvin(2430.28)     Kelvin(942.458)  Kelvin(4219.61)\n",
       " Kelvin(2057.53)  Kelvin(1239.7)   …  Kelvin(4150.16)  Kelvin(1480.13)\n",
       " Kelvin(1883.25)  Kelvin(3867.73)     Kelvin(4421.14)  Kelvin(4668.45)\n",
       " Kelvin(2805.68)  Kelvin(4326.58)     Kelvin(1069.98)  Kelvin(4009.79)\n",
       " Kelvin(1105.91)  Kelvin(1028.55)     Kelvin(395.008)  Kelvin(4797.6)\n",
       " Kelvin(697.219)  Kelvin(755.126)     Kelvin(3264.42)  Kelvin(1841.41)\n",
       "\n",
       "[:, :, 3] =\n",
       " Kelvin(3625.71)  Kelvin(3903.42)  …  Kelvin(616.163)  Kelvin(2164.93)\n",
       " Kelvin(3699.27)  Kelvin(3923.59)     Kelvin(4694.06)  Kelvin(422.822)\n",
       " Kelvin(1998.89)  Kelvin(3717.95)     Kelvin(857.655)  Kelvin(1891.14)\n",
       " Kelvin(1373.33)  Kelvin(1085.58)     Kelvin(3157.07)  Kelvin(2257.37)\n",
       " Kelvin(4187.31)  Kelvin(4373.61)     Kelvin(4756.4)   Kelvin(4114.59)\n",
       " Kelvin(2200.6)   Kelvin(3188.99)  …  Kelvin(4772.62)  Kelvin(2702.6)\n",
       " Kelvin(3091.03)  Kelvin(2065.69)     Kelvin(2317.25)  Kelvin(3927.02)\n",
       " Kelvin(551.485)  Kelvin(3045.65)     Kelvin(3366.54)  Kelvin(427.612)\n",
       " Kelvin(40.985)   Kelvin(461.553)     Kelvin(1778.05)  Kelvin(4187.98)\n",
       " Kelvin(333.55)   Kelvin(3530.23)     Kelvin(4031.29)  Kelvin(1713.11)\n",
       " Kelvin(4814.23)  Kelvin(3913.37)  …  Kelvin(318.362)  Kelvin(3494.02)\n",
       " Kelvin(1605.28)  Kelvin(4949.16)     Kelvin(4363.4)   Kelvin(4754.31)\n",
       " Kelvin(1496.44)  Kelvin(3436.43)     Kelvin(492.769)  Kelvin(3083.97)\n",
       " ⋮                                 ⋱                   \n",
       " Kelvin(1248.66)  Kelvin(2161.45)     Kelvin(4533.34)  Kelvin(1938.01)\n",
       " Kelvin(409.913)  Kelvin(1620.62)     Kelvin(4359.09)  Kelvin(59.6085)\n",
       " Kelvin(2168.55)  Kelvin(194.8)    …  Kelvin(527.134)  Kelvin(4247.63)\n",
       " Kelvin(1740.47)  Kelvin(3670.09)     Kelvin(1278.6)   Kelvin(662.485)\n",
       " Kelvin(801.603)  Kelvin(1978.13)     Kelvin(4637.19)  Kelvin(4375.57)\n",
       " Kelvin(2757.93)  Kelvin(1124.19)     Kelvin(2027.09)  Kelvin(4095.07)\n",
       " Kelvin(334.026)  Kelvin(527.073)     Kelvin(4931.11)  Kelvin(3956.02)\n",
       " Kelvin(895.962)  Kelvin(652.399)  …  Kelvin(2721.87)  Kelvin(1073.99)\n",
       " Kelvin(4634.23)  Kelvin(4678.46)     Kelvin(14.5251)  Kelvin(2505.58)\n",
       " Kelvin(2082.23)  Kelvin(3118.11)     Kelvin(4124.53)  Kelvin(2000.27)\n",
       " Kelvin(1984.73)  Kelvin(3411.93)     Kelvin(3031.72)  Kelvin(969.034)\n",
       " Kelvin(567.579)  Kelvin(1867.65)     Kelvin(2557.78)  Kelvin(1584.01)\n",
       "\n",
       ";;; … \n",
       "\n",
       "[:, :, 298] =\n",
       " Kelvin(430.667)  Kelvin(4775.93)  …  Kelvin(4255.76)  Kelvin(1162.39)\n",
       " Kelvin(427.346)  Kelvin(489.439)     Kelvin(167.107)  Kelvin(2840.09)\n",
       " Kelvin(1167.52)  Kelvin(4712.87)     Kelvin(3374.33)  Kelvin(2920.44)\n",
       " Kelvin(1614.67)  Kelvin(2454.22)     Kelvin(3573.84)  Kelvin(3886.38)\n",
       " Kelvin(1196.38)  Kelvin(3442.95)     Kelvin(1715.57)  Kelvin(619.338)\n",
       " Kelvin(3785.03)  Kelvin(2241.11)  …  Kelvin(10.3681)  Kelvin(4797.43)\n",
       " Kelvin(3767.66)  Kelvin(4658.47)     Kelvin(1767.72)  Kelvin(3954.68)\n",
       " Kelvin(4615.23)  Kelvin(800.524)     Kelvin(1330.7)   Kelvin(3694.85)\n",
       " Kelvin(2508.29)  Kelvin(241.742)     Kelvin(2881.59)  Kelvin(3148.97)\n",
       " Kelvin(1646.88)  Kelvin(2337.83)     Kelvin(751.571)  Kelvin(1725.71)\n",
       " Kelvin(3926.08)  Kelvin(2945.67)  …  Kelvin(1445.5)   Kelvin(3132.73)\n",
       " Kelvin(3355.11)  Kelvin(2116.72)     Kelvin(2647.19)  Kelvin(2316.52)\n",
       " Kelvin(4442.62)  Kelvin(44.9603)     Kelvin(2227.26)  Kelvin(1376.1)\n",
       " ⋮                                 ⋱                   \n",
       " Kelvin(4935.62)  Kelvin(686.409)     Kelvin(3909.9)   Kelvin(1086.67)\n",
       " Kelvin(4071.69)  Kelvin(4581.21)     Kelvin(1161.89)  Kelvin(85.3694)\n",
       " Kelvin(3471.59)  Kelvin(1405.69)  …  Kelvin(375.31)   Kelvin(1521.24)\n",
       " Kelvin(3955.59)  Kelvin(4827.46)     Kelvin(4597.47)  Kelvin(2692.76)\n",
       " Kelvin(2956.94)  Kelvin(4270.39)     Kelvin(590.996)  Kelvin(424.92)\n",
       " Kelvin(23.0445)  Kelvin(4121.54)     Kelvin(4250.54)  Kelvin(4399.04)\n",
       " Kelvin(71.1106)  Kelvin(2206.97)     Kelvin(2471.21)  Kelvin(963.886)\n",
       " Kelvin(2403.58)  Kelvin(3930.24)  …  Kelvin(3906.42)  Kelvin(2614.07)\n",
       " Kelvin(3408.48)  Kelvin(1110.57)     Kelvin(4818.62)  Kelvin(4360.78)\n",
       " Kelvin(2903.13)  Kelvin(2821.07)     Kelvin(2647.51)  Kelvin(3127.08)\n",
       " Kelvin(1096.4)   Kelvin(4431.02)     Kelvin(1164.26)  Kelvin(2187.3)\n",
       " Kelvin(1059.6)   Kelvin(2842.3)      Kelvin(4060.82)  Kelvin(4356.09)\n",
       "\n",
       "[:, :, 299] =\n",
       " Kelvin(3563.4)   Kelvin(1724.58)   …  Kelvin(1982.04)  Kelvin(4088.9)\n",
       " Kelvin(4036.53)  Kelvin(1797.27)      Kelvin(2513.38)  Kelvin(2586.96)\n",
       " Kelvin(4724.27)  Kelvin(820.757)      Kelvin(1325.64)  Kelvin(539.486)\n",
       " Kelvin(2208.78)  Kelvin(4861.94)      Kelvin(2061.48)  Kelvin(3389.68)\n",
       " Kelvin(1957.32)  Kelvin(1020.51)      Kelvin(2642.88)  Kelvin(2355.18)\n",
       " Kelvin(4204.24)  Kelvin(0.767513)  …  Kelvin(199.837)  Kelvin(900.713)\n",
       " Kelvin(590.147)  Kelvin(4439.52)      Kelvin(4127.64)  Kelvin(2717.3)\n",
       " Kelvin(2275.86)  Kelvin(3215.98)      Kelvin(4348.5)   Kelvin(2656.66)\n",
       " Kelvin(562.275)  Kelvin(780.856)      Kelvin(4678.01)  Kelvin(1111.25)\n",
       " Kelvin(4413.48)  Kelvin(1222.99)      Kelvin(4493.3)   Kelvin(3441.32)\n",
       " Kelvin(3785.99)  Kelvin(3582.23)   …  Kelvin(3831.87)  Kelvin(3223.78)\n",
       " Kelvin(2032.23)  Kelvin(1185.62)      Kelvin(3696.76)  Kelvin(2140.77)\n",
       " Kelvin(4064.07)  Kelvin(2167.5)       Kelvin(489.9)    Kelvin(4792.98)\n",
       " ⋮                                  ⋱                   \n",
       " Kelvin(2830.28)  Kelvin(2053.26)      Kelvin(2361.54)  Kelvin(1326.92)\n",
       " Kelvin(949.519)  Kelvin(3499.21)      Kelvin(3561.58)  Kelvin(2904.1)\n",
       " Kelvin(4415.58)  Kelvin(4256.53)   …  Kelvin(2444.02)  Kelvin(132.609)\n",
       " Kelvin(3760.77)  Kelvin(4786.85)      Kelvin(772.26)   Kelvin(1134.47)\n",
       " Kelvin(1980.8)   Kelvin(85.0472)      Kelvin(717.522)  Kelvin(1858.67)\n",
       " Kelvin(1715.06)  Kelvin(282.782)      Kelvin(4183.71)  Kelvin(1910.48)\n",
       " Kelvin(4615.1)   Kelvin(3244.62)      Kelvin(4449.28)  Kelvin(4836.64)\n",
       " Kelvin(4669.18)  Kelvin(3421.08)   …  Kelvin(3433.57)  Kelvin(4766.19)\n",
       " Kelvin(349.942)  Kelvin(575.194)      Kelvin(730.651)  Kelvin(484.063)\n",
       " Kelvin(3357.43)  Kelvin(4237.53)      Kelvin(2503.2)   Kelvin(874.454)\n",
       " Kelvin(2521.61)  Kelvin(406.51)       Kelvin(653.187)  Kelvin(3787.62)\n",
       " Kelvin(321.332)  Kelvin(2801.6)       Kelvin(2828.07)  Kelvin(3264.08)\n",
       "\n",
       "[:, :, 300] =\n",
       " Kelvin(175.333)  Kelvin(4531.3)   …  Kelvin(4912.75)  Kelvin(855.097)\n",
       " Kelvin(4061.2)   Kelvin(775.102)     Kelvin(1523.87)  Kelvin(1674.29)\n",
       " Kelvin(3155.44)  Kelvin(1541.23)     Kelvin(3340.91)  Kelvin(2515.58)\n",
       " Kelvin(4880.86)  Kelvin(3060.76)     Kelvin(961.006)  Kelvin(1711.82)\n",
       " Kelvin(2105.54)  Kelvin(3985.5)      Kelvin(1093.59)  Kelvin(1526.36)\n",
       " Kelvin(4244.83)  Kelvin(1830.07)  …  Kelvin(2259.85)  Kelvin(3658.35)\n",
       " Kelvin(2633.06)  Kelvin(400.663)     Kelvin(2372.81)  Kelvin(806.873)\n",
       " Kelvin(4072.74)  Kelvin(483.519)     Kelvin(2843.61)  Kelvin(4216.46)\n",
       " Kelvin(4458.0)   Kelvin(610.699)     Kelvin(719.644)  Kelvin(1458.32)\n",
       " Kelvin(1510.56)  Kelvin(4777.04)     Kelvin(4010.11)  Kelvin(4247.52)\n",
       " Kelvin(2108.36)  Kelvin(1121.61)  …  Kelvin(3050.96)  Kelvin(3950.03)\n",
       " Kelvin(4342.76)  Kelvin(4752.97)     Kelvin(205.961)  Kelvin(3007.01)\n",
       " Kelvin(2685.68)  Kelvin(3627.23)     Kelvin(1225.7)   Kelvin(4122.27)\n",
       " ⋮                                 ⋱                   \n",
       " Kelvin(3944.01)  Kelvin(4318.42)     Kelvin(825.717)  Kelvin(4523.43)\n",
       " Kelvin(3652.31)  Kelvin(2898.27)     Kelvin(2194.86)  Kelvin(1346.14)\n",
       " Kelvin(1817.74)  Kelvin(2746.3)   …  Kelvin(1499.41)  Kelvin(1675.98)\n",
       " Kelvin(94.1356)  Kelvin(1534.18)     Kelvin(1895.1)   Kelvin(132.473)\n",
       " Kelvin(2543.19)  Kelvin(2154.44)     Kelvin(4912.65)  Kelvin(3141.51)\n",
       " Kelvin(4327.08)  Kelvin(923.531)     Kelvin(3066.84)  Kelvin(155.584)\n",
       " Kelvin(1171.96)  Kelvin(472.448)     Kelvin(2559.34)  Kelvin(1361.62)\n",
       " Kelvin(129.865)  Kelvin(3561.72)  …  Kelvin(1813.82)  Kelvin(2317.46)\n",
       " Kelvin(3092.55)  Kelvin(557.963)     Kelvin(1647.83)  Kelvin(4250.1)\n",
       " Kelvin(4389.78)  Kelvin(2582.26)     Kelvin(789.533)  Kelvin(1981.84)\n",
       " Kelvin(3927.89)  Kelvin(2339.17)     Kelvin(4446.39)  Kelvin(2019.22)\n",
       " Kelvin(4158.85)  Kelvin(2108.84)     Kelvin(2342.75)  Kelvin(855.838)"
      ]
     },
     "execution_count": 38,
     "metadata": {},
     "output_type": "execute_result"
    }
   ],
   "source": [
    "rand(Kelvin, 100, 200, 300)"
   ]
  }
 ],
 "metadata": {
  "@webio": {
   "lastCommId": "2bd147ecb5c74f249d6624a64ec9a0c9",
   "lastKernelId": "719a8b8a-4c66-4add-b6a9-125ced4f69d1"
  },
  "celltoolbar": "Slideshow",
  "kernelspec": {
   "display_name": "Julia 1.7.2",
   "language": "julia",
   "name": "julia-1.7"
  },
  "language_info": {
   "file_extension": ".jl",
   "mimetype": "application/julia",
   "name": "julia",
   "version": "1.7.2"
  }
 },
 "nbformat": 4,
 "nbformat_minor": 4
}
