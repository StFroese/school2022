{
 "cells": [
  {
   "cell_type": "markdown",
   "id": "d2d42031-47a4-4562-91ae-0bd53d74a945",
   "metadata": {},
   "source": [
    "# Escape Summer School - Hyperparameters Optimization"
   ]
  },
  {
   "cell_type": "code",
   "execution_count": 22,
   "id": "e3feaed1-6813-4060-bc00-238502cd29fe",
   "metadata": {},
   "outputs": [],
   "source": [
    "import numpy as np\n",
    "from numpy.random import randint\n",
    "import matplotlib.pyplot as plt\n",
    "import seaborn as sns\n",
    "from sklearn.datasets import load_digits\n",
    "from sklearn.model_selection import train_test_split\n",
    "from sklearn.svm import SVC\n",
    "from sklearn.model_selection import GridSearchCV\n",
    "\n",
    "np.random.seed(0)\n",
    "sns.set()"
   ]
  },
  {
   "cell_type": "markdown",
   "id": "ea3223fd-8eee-4693-ae77-920dd44022b3",
   "metadata": {},
   "source": [
    "### Load datasets"
   ]
  },
  {
   "cell_type": "code",
   "execution_count": 30,
   "id": "f2ec1f6a-b7c8-41d3-a26e-1a93aa735826",
   "metadata": {},
   "outputs": [
    {
     "name": "stdout",
     "output_type": "stream",
     "text": [
      "Number of digits : 1797\n"
     ]
    },
    {
     "data": {
      "image/png": "[encoded data removed]",
      "text/plain": [
       "<Figure size 1440x288 with 5 Axes>"
      ]
     },
     "metadata": {},
     "output_type": "display_data"
    }
   ],
   "source": [
    "digits = load_digits()\n",
    "\n",
    "images = digits['images']\n",
    "labels = digits['target']\n",
    "nb_images = len(images)\n",
    "print('Number of digits :', nb_images)\n",
    "\n",
    "rand_nbs = randint(0, nb_images, 5)\n",
    "\n",
    "plt.figure(figsize=(20, 4))\n",
    "for i,r in enumerate(rand_nbs):\n",
    "    plt.subplot(1, 5, i + 1)\n",
    "    plt.imshow(images[r], cmap=\"gray\")\n",
    "    plt.title('Label : ' + str(labels[r]))"
   ]
  },
  {
   "cell_type": "markdown",
   "id": "9e22a0b6",
   "metadata": {},
   "source": [
    "## Classification\n",
    "\n",
    "- The task for which the `digits` dataset was originally devised is, of course, identifying which handwritten digit is in each image.\n",
    "- This is a useful task in the real world, where machines read postcodes on letters to sort them, and digits on cheques to validate them automatically.\n",
    "- We have labels in the training dataset, therefore this is a **supervised classification** task. Supervised classification is the most common of modern ML tasks.\n",
    "\n",
    "### Support Vector Classifiers\n",
    "\n",
    "- Today, large-scale, high-dimensional classification tasks on complex data are almost always solved with deep neural networks.\n",
    "- However, simpler algorithms are still used for smaller and lower-dimensional datasets. One of these is called the Support Vector Classifier.\n",
    "\n",
    "Before we proceed, it's time to introduce the split between training set and test set.\n",
    "- Having a separate test set, composed of data kept out of the training, is important in order to check whether our model is able to *generalise properly* on data it has not seen before."
   ]
  },
  {
   "cell_type": "markdown",
   "id": "1c86cf29",
   "metadata": {},
   "source": [
    "### Split in train and test datasets"
   ]
  },
  {
   "cell_type": "code",
   "execution_count": 31,
   "id": "cfacce24",
   "metadata": {},
   "outputs": [
    {
     "name": "stdout",
     "output_type": "stream",
     "text": [
      "Training set size : 1437\n",
      "Test set size     : 360\n"
     ]
    }
   ],
   "source": [
    "data_train, data_test, labels_train, labels_test = train_test_split(digits[\"data\"], digits[\"target\"], test_size=0.2, random_state=42)\n",
    "\n",
    "print('Training set size :', labels_train.size)\n",
    "print('Test set size     :', labels_test.size)"
   ]
  },
  {
   "cell_type": "markdown",
   "id": "4f8268f1-7d5e-4a58-b098-3ba7dc23f49e",
   "metadata": {},
   "source": [
    "### Train classifier"
   ]
  },
  {
   "cell_type": "code",
   "execution_count": 32,
   "id": "851a1f9f-0777-42b0-b02d-1ea7c161b625",
   "metadata": {},
   "outputs": [],
   "source": [
    "svc = SVC(gamma=0.001)\n",
    "\n",
    "# training\n",
    "svc.fit(data_train, labels_train)\n",
    "\n",
    "# looking at prediction on training set\n",
    "predicted_train = svc.predict(data_train)\n",
    "\n",
    "# looking at prediction on test set\n",
    "predicted_test = svc.predict(data_test)"
   ]
  },
  {
   "cell_type": "markdown",
   "id": "2cfb5d1e-17a0-4b24-af81-f811e2f9e319",
   "metadata": {},
   "source": [
    "## Hyperparameters optimization"
   ]
  },
  {
   "cell_type": "code",
   "execution_count": 33,
   "id": "8d854376-4e8c-4223-9e7c-73e11ea534bd",
   "metadata": {},
   "outputs": [
    {
     "data": {
      "text/plain": [
       "GridSearchCV(cv=5, estimator=SVC(gamma=0.001),\n",
       "             param_grid=[{'C': [0.01, 0.1, 1, 10, 100, 1000],\n",
       "                          'gamma': [0.1, 0.01, 0.001, 0.0001],\n",
       "                          'kernel': ['rbf']}])"
      ]
     },
     "execution_count": 33,
     "metadata": {},
     "output_type": "execute_result"
    }
   ],
   "source": [
    "C = [0.01, 0.1, 1, 10, 100, 1000]\n",
    "gamma = [0.1, 0.01, 0.001, 0.0001]\n",
    "\n",
    "param_grid = [{'C': C, 'gamma': gamma, 'kernel': ['rbf']}]\n",
    "gridsearch = GridSearchCV(cv = 5, estimator = svc, param_grid = param_grid)\n",
    "gridsearch.fit(data_train, labels_train)"
   ]
  },
  {
   "cell_type": "code",
   "execution_count": 34,
   "id": "a56e2c03-f3c8-496f-80d6-f9d36ce73aa4",
   "metadata": {},
   "outputs": [
    {
     "data": {
      "text/plain": [
       "{'mean_fit_time': array([0.08048902, 0.07419033, 0.07281251, 0.07225118, 0.07932019,\n",
       "        0.07433372, 0.04357371, 0.05983706, 0.08322597, 0.08352356,\n",
       "        0.02622118, 0.02151728, 0.08845921, 0.08325405, 0.02632957,\n",
       "        0.01357689, 0.08816519, 0.08288465, 0.02617378, 0.01329961,\n",
       "        0.08999496, 0.08329949, 0.02633986, 0.01336131]),\n",
       " 'std_fit_time': array([0.01390458, 0.00074166, 0.00065977, 0.00064418, 0.00065543,\n",
       "        0.00261503, 0.00035346, 0.00043117, 0.00043446, 0.00023869,\n",
       "        0.00020874, 0.0001893 , 0.00054853, 0.00020855, 0.00013462,\n",
       "        0.00024549, 0.00057643, 0.00012031, 0.00023669, 0.00010518,\n",
       "        0.00153073, 0.00011135, 0.00024934, 0.00015359]),\n",
       " 'mean_score_time': array([0.01621599, 0.01679025, 0.01658597, 0.0165483 , 0.0161509 ,\n",
       "        0.01649394, 0.01334281, 0.01637979, 0.01619501, 0.01612654,\n",
       "        0.00879526, 0.01081595, 0.01635723, 0.01652961, 0.0091291 ,\n",
       "        0.00649371, 0.01635213, 0.01618695, 0.00904102, 0.00599189,\n",
       "        0.01650834, 0.01621404, 0.00888619, 0.00581288]),\n",
       " 'std_score_time': array([6.09803650e-04, 2.23642555e-04, 1.81033072e-04, 3.27865983e-04,\n",
       "        5.12011554e-04, 3.70012104e-04, 5.41946259e-04, 4.79860458e-04,\n",
       "        3.50883933e-04, 2.50207030e-04, 2.51345023e-04, 3.05418745e-04,\n",
       "        2.76046850e-04, 2.06811065e-04, 2.90606660e-04, 3.14726020e-04,\n",
       "        3.65419899e-04, 2.92505182e-04, 2.90210765e-04, 2.38937643e-04,\n",
       "        2.78237730e-04, 3.48412764e-04, 2.36610355e-04, 8.75981138e-05]),\n",
       " 'param_C': masked_array(data=[0.01, 0.01, 0.01, 0.01, 0.1, 0.1, 0.1, 0.1, 1, 1, 1, 1,\n",
       "                    10, 10, 10, 10, 100, 100, 100, 100, 1000, 1000, 1000,\n",
       "                    1000],\n",
       "              mask=[False, False, False, False, False, False, False, False,\n",
       "                    False, False, False, False, False, False, False, False,\n",
       "                    False, False, False, False, False, False, False, False],\n",
       "        fill_value='?',\n",
       "             dtype=object),\n",
       " 'param_gamma': masked_array(data=[0.1, 0.01, 0.001, 0.0001, 0.1, 0.01, 0.001, 0.0001,\n",
       "                    0.1, 0.01, 0.001, 0.0001, 0.1, 0.01, 0.001, 0.0001,\n",
       "                    0.1, 0.01, 0.001, 0.0001, 0.1, 0.01, 0.001, 0.0001],\n",
       "              mask=[False, False, False, False, False, False, False, False,\n",
       "                    False, False, False, False, False, False, False, False,\n",
       "                    False, False, False, False, False, False, False, False],\n",
       "        fill_value='?',\n",
       "             dtype=object),\n",
       " 'param_kernel': masked_array(data=['rbf', 'rbf', 'rbf', 'rbf', 'rbf', 'rbf', 'rbf', 'rbf',\n",
       "                    'rbf', 'rbf', 'rbf', 'rbf', 'rbf', 'rbf', 'rbf', 'rbf',\n",
       "                    'rbf', 'rbf', 'rbf', 'rbf', 'rbf', 'rbf', 'rbf', 'rbf'],\n",
       "              mask=[False, False, False, False, False, False, False, False,\n",
       "                    False, False, False, False, False, False, False, False,\n",
       "                    False, False, False, False, False, False, False, False],\n",
       "        fill_value='?',\n",
       "             dtype=object),\n",
       " 'params': [{'C': 0.01, 'gamma': 0.1, 'kernel': 'rbf'},\n",
       "  {'C': 0.01, 'gamma': 0.01, 'kernel': 'rbf'},\n",
       "  {'C': 0.01, 'gamma': 0.001, 'kernel': 'rbf'},\n",
       "  {'C': 0.01, 'gamma': 0.0001, 'kernel': 'rbf'},\n",
       "  {'C': 0.1, 'gamma': 0.1, 'kernel': 'rbf'},\n",
       "  {'C': 0.1, 'gamma': 0.01, 'kernel': 'rbf'},\n",
       "  {'C': 0.1, 'gamma': 0.001, 'kernel': 'rbf'},\n",
       "  {'C': 0.1, 'gamma': 0.0001, 'kernel': 'rbf'},\n",
       "  {'C': 1, 'gamma': 0.1, 'kernel': 'rbf'},\n",
       "  {'C': 1, 'gamma': 0.01, 'kernel': 'rbf'},\n",
       "  {'C': 1, 'gamma': 0.001, 'kernel': 'rbf'},\n",
       "  {'C': 1, 'gamma': 0.0001, 'kernel': 'rbf'},\n",
       "  {'C': 10, 'gamma': 0.1, 'kernel': 'rbf'},\n",
       "  {'C': 10, 'gamma': 0.01, 'kernel': 'rbf'},\n",
       "  {'C': 10, 'gamma': 0.001, 'kernel': 'rbf'},\n",
       "  {'C': 10, 'gamma': 0.0001, 'kernel': 'rbf'},\n",
       "  {'C': 100, 'gamma': 0.1, 'kernel': 'rbf'},\n",
       "  {'C': 100, 'gamma': 0.01, 'kernel': 'rbf'},\n",
       "  {'C': 100, 'gamma': 0.001, 'kernel': 'rbf'},\n",
       "  {'C': 100, 'gamma': 0.0001, 'kernel': 'rbf'},\n",
       "  {'C': 1000, 'gamma': 0.1, 'kernel': 'rbf'},\n",
       "  {'C': 1000, 'gamma': 0.01, 'kernel': 'rbf'},\n",
       "  {'C': 1000, 'gamma': 0.001, 'kernel': 'rbf'},\n",
       "  {'C': 1000, 'gamma': 0.0001, 'kernel': 'rbf'}],\n",
       " 'split0_test_score': array([0.10763889, 0.10763889, 0.10763889, 0.10763889, 0.10763889,\n",
       "        0.10763889, 0.95486111, 0.88541667, 0.10763889, 0.74305556,\n",
       "        0.98958333, 0.97916667, 0.10763889, 0.76041667, 0.98958333,\n",
       "        0.98958333, 0.10763889, 0.76041667, 0.98958333, 0.98611111,\n",
       "        0.10763889, 0.76041667, 0.98958333, 0.98611111]),\n",
       " 'split1_test_score': array([0.10763889, 0.10763889, 0.10763889, 0.10763889, 0.10763889,\n",
       "        0.10763889, 0.94444444, 0.85416667, 0.10763889, 0.74652778,\n",
       "        0.98263889, 0.95833333, 0.10763889, 0.76736111, 0.98611111,\n",
       "        0.97916667, 0.10763889, 0.76736111, 0.98611111, 0.98263889,\n",
       "        0.10763889, 0.76736111, 0.98611111, 0.98263889]),\n",
       " 'split2_test_score': array([0.10801394, 0.10801394, 0.10801394, 0.10801394, 0.10801394,\n",
       "        0.10801394, 0.95121951, 0.89198606, 0.10801394, 0.73867596,\n",
       "        0.98954704, 0.96167247, 0.10801394, 0.75261324, 0.98954704,\n",
       "        0.97212544, 0.10801394, 0.75261324, 0.98954704, 0.97909408,\n",
       "        0.10801394, 0.75261324, 0.98954704, 0.97909408]),\n",
       " 'split3_test_score': array([0.10801394, 0.10801394, 0.10801394, 0.10801394, 0.10801394,\n",
       "        0.10801394, 0.97212544, 0.86759582, 0.10801394, 0.75958188,\n",
       "        0.99303136, 0.9825784 , 0.10801394, 0.77700348, 0.99651568,\n",
       "        0.98954704, 0.10801394, 0.77700348, 0.99651568, 0.98954704,\n",
       "        0.10801394, 0.77700348, 0.99651568, 0.98954704]),\n",
       " 'split4_test_score': array([0.10452962, 0.10452962, 0.10452962, 0.10452962, 0.10452962,\n",
       "        0.10452962, 0.95470383, 0.81533101, 0.10452962, 0.73867596,\n",
       "        0.9825784 , 0.96515679, 0.10452962, 0.74912892, 0.98606272,\n",
       "        0.97909408, 0.10452962, 0.74912892, 0.98606272, 0.9825784 ,\n",
       "        0.10452962, 0.74912892, 0.98606272, 0.9825784 ]),\n",
       " 'mean_test_score': array([0.10716705, 0.10716705, 0.10716705, 0.10716705, 0.10716705,\n",
       "        0.10716705, 0.95547087, 0.86289925, 0.10716705, 0.74530343,\n",
       "        0.9874758 , 0.96938153, 0.10716705, 0.76130468, 0.98956398,\n",
       "        0.98190331, 0.10716705, 0.76130468, 0.98956398, 0.9839939 ,\n",
       "        0.10716705, 0.76130468, 0.98956398, 0.9839939 ]),\n",
       " 'std_test_score': array([0.00132934, 0.00132934, 0.00132934, 0.00132934, 0.00132934,\n",
       "        0.00132934, 0.0091432 , 0.02725483, 0.00132934, 0.00772364,\n",
       "        0.00417076, 0.00968759, 0.00132934, 0.01007682, 0.00380809,\n",
       "        0.00675866, 0.00132934, 0.01007682, 0.00380809, 0.00355437,\n",
       "        0.00132934, 0.01007682, 0.00380809, 0.00355437]),\n",
       " 'rank_test_score': array([15, 15, 15, 15, 15, 15,  9, 10, 15, 14,  4,  8, 15, 11,  1,  7, 15,\n",
       "        11,  1,  5, 15, 11,  1,  5], dtype=int32)}"
      ]
     },
     "execution_count": 34,
     "metadata": {},
     "output_type": "execute_result"
    }
   ],
   "source": [
    "gridsearch.cv_results_"
   ]
  },
  {
   "cell_type": "code",
   "execution_count": 35,
   "id": "ef05e66b-a692-4ed0-9cea-d7596ca0ca5d",
   "metadata": {},
   "outputs": [
    {
     "name": "stdout",
     "output_type": "stream",
     "text": [
      "[[0.10716705 0.10716705 0.10716705 0.10716705]\n",
      " [0.10716705 0.10716705 0.95547087 0.86289925]\n",
      " [0.10716705 0.74530343 0.9874758  0.96938153]\n",
      " [0.10716705 0.76130468 0.98956398 0.98190331]\n",
      " [0.10716705 0.76130468 0.98956398 0.9839939 ]\n",
      " [0.10716705 0.76130468 0.98956398 0.9839939 ]]\n",
      "[[0.00132934 0.00132934 0.00132934 0.00132934]\n",
      " [0.00132934 0.00132934 0.0091432  0.02725483]\n",
      " [0.00132934 0.00772364 0.00417076 0.00968759]\n",
      " [0.00132934 0.01007682 0.00380809 0.00675866]\n",
      " [0.00132934 0.01007682 0.00380809 0.00355437]\n",
      " [0.00132934 0.01007682 0.00380809 0.00355437]]\n"
     ]
    }
   ],
   "source": [
    "mean_score = gridsearch.cv_results_ [\"mean_test_score\"].reshape (len(C),len(gamma))\n",
    "print(mean_score)\n",
    "std_score = gridsearch.cv_results_ [\"std_test_score\"].reshape (len(C),len(gamma))\n",
    "print(std_score)\n",
    "C_mat = gridsearch.cv_results_[\"param_C\"].reshape(len(C),len(gamma))\n",
    "gamma_mat  = gridsearch.cv_results_[\"param_gamma\"].reshape(len(C),len(gamma))"
   ]
  },
  {
   "cell_type": "code",
   "execution_count": 48,
   "id": "cbf32464-d779-42ec-9b4e-e127a37d4024",
   "metadata": {},
   "outputs": [
    {
     "name": "stdout",
     "output_type": "stream",
     "text": [
      "Figure(720x360)\n"
     ]
    },
    {
     "data": {
      "image/png": "[encoded data removed]",
      "text/plain": [
       "<Figure size 720x360 with 2 Axes>"
      ]
     },
     "metadata": {},
     "output_type": "display_data"
    }
   ],
   "source": [
    "fig, (ax1, ax2) = plt.subplots(1, 2, figsize=(10, 5))\n",
    "ax1.matshow(mean_score)\n",
    "ax1.set_xticks(np.arange(len(gamma)))\n",
    "ax1.set_xticklabels(gamma)\n",
    "ax1.set_xlabel(\"gamma\")\n",
    "ax1.set_yticks(np.arange(len(C)))\n",
    "ax1.set_yticklabels(C)\n",
    "ax1.set_ylabel(\"C\")\n",
    "ax1.set_title(\"mean accuracy\")\n",
    "\n",
    "ax2.matshow(std_score)\n",
    "ax2.set_xticks(np.arange(len(gamma)))\n",
    "ax2.set_xticklabels(gamma)\n",
    "ax2.set_xlabel(\"gamma\")\n",
    "ax2.set_yticks(np.arange(len(C)))\n",
    "ax2.set_yticklabels(C)\n",
    "ax2.set_ylabel(\"C\")\n",
    "ax2.set_title(\"std accuracy\")\n",
    "print(fig)"
   ]
  },
  {
   "cell_type": "code",
   "execution_count": null,
   "id": "0eea4024-e0c9-496b-8594-f45cf33f1ed1",
   "metadata": {},
   "outputs": [],
   "source": []
  }
 ],
 "metadata": {
  "kernelspec": {
   "display_name": "Python 3 (ipykernel)",
   "language": "python",
   "name": "python3"
  },
  "language_info": {
   "codemirror_mode": {
    "name": "ipython",
    "version": 3
   },
   "file_extension": ".py",
   "mimetype": "text/x-python",
   "name": "python",
   "nbconvert_exporter": "python",
   "pygments_lexer": "ipython3",
   "version": "3.9.12+"
  }
 },
 "nbformat": 4,
 "nbformat_minor": 5
}
