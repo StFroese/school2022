{
 "cells": [
  {
   "cell_type": "markdown",
   "metadata": {
    "slideshow": {
     "slide_type": "slide"
    }
   },
   "source": [
    "# Reading Binary Data with Numpy\n",
    "\n",
    "Tamás Gál (tamas.gal@fau.de)\n",
    "\n",
    "The latest version of this notebook is available at [https://github.com/escape2020/school2022](https://github.com/escape2020/school2022)"
   ]
  },
  {
   "cell_type": "code",
   "execution_count": 1,
   "metadata": {
    "slideshow": {
     "slide_type": "fragment"
    }
   },
   "outputs": [
    {
     "name": "stdout",
     "output_type": "stream",
     "text": [
      "Python version:  3.9.12 (main, Mar 26 2022, 15:44:31) \n",
      "[Clang 13.1.6 (clang-1316.0.21.2)]\n",
      "NumPy version:   1.22.4\n"
     ]
    }
   ],
   "source": [
    "import numpy as np\n",
    "import sys\n",
    "\n",
    "print(f\"Python version:  {sys.version}\\n\"\n",
    "      f\"NumPy version:   {np.__version__}\")"
   ]
  },
  {
   "cell_type": "code",
   "execution_count": 2,
   "metadata": {
    "slideshow": {
     "slide_type": "fragment"
    }
   },
   "outputs": [],
   "source": [
    "%matplotlib inline\n",
    "import matplotlib.pyplot as plt\n",
    "plt.rcParams['figure.figsize'] = (16, 5)\n",
    "plt.rcParams['figure.dpi'] = 300"
   ]
  },
  {
   "cell_type": "markdown",
   "metadata": {
    "slideshow": {
     "slide_type": "slide"
    }
   },
   "source": [
    "## Exercise: Read a KM3NeT Event File and create a histogram of the PMT hit signals\n",
    "\n",
    "Use `numpy.fromfile()` and custom `dtype`s to read an event from `numpy/IO_EVT.dat`\n",
    "\n",
    "The KM3NeT DAQ dataformat for storing an event consists of a header and two sets of hits (triggered hits and snapshot hits). The header has been skipped, so `IO_EVT.dat` only contains the **triggered** and **snapshot** hits.\n",
    "\n",
    "This is the binary structure of the file:\n",
    "\n",
    "#### Triggered hits:\n",
    "- n_hits `[int32, little endian]`\n",
    "- n_hits * triggered_hit_struct\n",
    "    - optical module ID `[int32, little endian]`, example value 808476737\n",
    "    - PMT ID `[unsigned char (byte)]`, value between 0 and 30\n",
    "    - time in nanoseconds `[uint32, big endian]`, example value 90544845\n",
    "    - ToT (time over threshold in nanoseconds) `[unsigned byte]`, value between 0 and 255\n",
    "    - trigger mask `[uint64, little endian]`, bitmask, typical values are 1, 3, 4, 6\n",
    "\n",
    "#### Snapshot hits: same as triggered hits but without the `trigger mask` field"
   ]
  }
 ],
 "metadata": {
  "@webio": {
   "lastCommId": "f52a4bc4f8f1409782e3e9ab289aadef",
   "lastKernelId": "058fa9a0-44a7-4df6-9cb7-9e7f9ba3f007"
  },
  "celltoolbar": "Slideshow",
  "kernelspec": {
   "display_name": "escape2022",
   "language": "python",
   "name": "escape2022"
  },
  "language_info": {
   "codemirror_mode": {
    "name": "ipython",
    "version": 3
   },
   "file_extension": ".py",
   "mimetype": "text/x-python",
   "name": "python",
   "nbconvert_exporter": "python",
   "pygments_lexer": "ipython3",
   "version": "3.9.12"
  }
 },
 "nbformat": 4,
 "nbformat_minor": 4
}
